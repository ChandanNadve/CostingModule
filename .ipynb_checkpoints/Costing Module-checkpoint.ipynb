{
 "cells": [
  {
   "cell_type": "markdown",
   "id": "df7b8feb",
   "metadata": {},
   "source": [
    "# PROJECT NAME : COSTING MODULE"
   ]
  },
  {
   "cell_type": "markdown",
   "id": "0e7857d7",
   "metadata": {},
   "source": [
    "### IMPORT THE REQUIRED PACKAGES"
   ]
  },
  {
   "cell_type": "code",
   "execution_count": 4,
   "id": "5296abc0",
   "metadata": {},
   "outputs": [],
   "source": [
    "import datetime\n",
    "import sqlqueryreader as sqr\n",
    "import sqlqueries as query\n",
    "import pandas as pd\n",
    "import os\n",
    "import time\n",
    "import warnings\n",
    "from pandas.core.common import SettingWithCopyWarning\n",
    "warnings.simplefilter(action=\"ignore\", category=SettingWithCopyWarning)\n",
    "\n",
    "now=datetime.datetime.now()\n",
    "f_time = now.strftime(\"%Y%m%d_%H%M%S\")\n",
    "folder_name = \"Costing_Process_\"+f_time"
   ]
  },
  {
   "cell_type": "markdown",
   "id": "3605a641",
   "metadata": {},
   "source": [
    "### MASTER TABLES PREPARATIONS\n",
    "\n",
    "Finished Goods Item Master and Item Master and UOM"
   ]
  },
  {
   "cell_type": "code",
   "execution_count": 30,
   "id": "a1550fad",
   "metadata": {
    "scrolled": true
   },
   "outputs": [],
   "source": [
    "item_master_data=readoraclequery(query.item_master_query) #8 Item Master\n",
    "fg_data = readoraclequery(query.fg_query) #1 FG Master\n",
    "fg_data.rename(columns={'bottleconfiguration':'Bottle Configuration'},inplace=True)\n",
    "uom_data=readoraclequery(query.uom_query) #11 UOM Query"
   ]
  },
  {
   "cell_type": "markdown",
   "id": "5a2353a0",
   "metadata": {},
   "source": [
    "Colors and Furnace Master"
   ]
  },
  {
   "cell_type": "code",
   "execution_count": null,
   "id": "c3067be8",
   "metadata": {},
   "outputs": [],
   "source": [
    "color_master_data = readoraclequery(query.color_query ) #4 Color Master\n",
    "furnace_master_data = readoraclequery(query.furnace_query ) #5 Furnace Master"
   ]
  },
  {
   "cell_type": "markdown",
   "id": "7b17feb9",
   "metadata": {},
   "source": [
    "Processing , Selected Items and Reference Master"
   ]
  },
  {
   "cell_type": "code",
   "execution_count": null,
   "id": "7385d49b",
   "metadata": {},
   "outputs": [],
   "source": [
    "reference_name_data=readoraclequery(query.reference_name_query) # 14. Reference Name Query\n",
    "process_costing_data =readoraclequery(query.costing_process_query) #7 Costing Processing Master\n",
    "selecteditem_data=readoraclequery(query.costing_process_query) # 25. Selected Items for Costing"
   ]
  },
  {
   "cell_type": "markdown",
   "id": "9bb0b6b2",
   "metadata": {},
   "source": [
    "Standard Efficiency"
   ]
  },
  {
   "cell_type": "code",
   "execution_count": null,
   "id": "46cde9d5",
   "metadata": {},
   "outputs": [],
   "source": [
    "furnace_std_eff_data =readoraclequery(query.std_eff_query) #6 Standard Efficiency"
   ]
  },
  {
   "cell_type": "markdown",
   "id": "1bbdbe26",
   "metadata": {},
   "source": [
    "Standard Rates for BOM"
   ]
  },
  {
   "cell_type": "code",
   "execution_count": null,
   "id": "2fc91389",
   "metadata": {},
   "outputs": [],
   "source": [
    "standard_rate_header_data=readoraclequery(query.standard_rate_header_query) #9 Standard Rate Header Data\n",
    "standard_rate_details_data=readoraclequery(query.standard_rate_details_query) #10 Standard Rate Grid Data"
   ]
  },
  {
   "cell_type": "markdown",
   "id": "467a1b54",
   "metadata": {},
   "source": [
    "\n",
    "# FURNACE COSTING"
   ]
  },
  {
   "cell_type": "code",
   "execution_count": 7,
   "id": "9ed637dd",
   "metadata": {},
   "outputs": [
    {
     "name": "stdout",
     "output_type": "stream",
     "text": [
      "System is running furnace costing....\n"
     ]
    }
   ],
   "source": [
    "fg_rm_bom_header_data = readoraclequery(query.rmbom_header_query) #2 RM Bill Of Material Header\n",
    "fg_rm_bom_details_data = readoraclequery(query.rmbom_detail_query) #3 RM Bill Of Material Detail\n",
    "fg_rm_bom_header_data_temp=fg_rm_bom_header_data.groupby(['color','furnance'])['docdt'].max()"
   ]
  },
  {
   "cell_type": "code",
   "execution_count": 8,
   "id": "5ecb825e",
   "metadata": {},
   "outputs": [],
   "source": [
    "#Join With RM BOM Data Grid\n",
    "fg_rm_bom_header_data=pd.merge(fg_rm_bom_header_data,fg_rm_bom_header_data_temp,on=['color','furnance','docdt'],how='inner')\n",
    "fg_rm_bom_full_data = pd.merge(fg_rm_bom_header_data,fg_rm_bom_details_data,on=['rmbomhdrid'],how='inner')"
   ]
  },
  {
   "cell_type": "code",
   "execution_count": 9,
   "id": "9edb88b8",
   "metadata": {},
   "outputs": [],
   "source": [
    "#Rename the Columns for Joining with color and furnace master and Join(Merge)\n",
    "fg_rm_bom_full_data.rename(columns={'color':'colormasterid','furnance':'psysfurnaceid'},inplace=True)\n",
    "fg_rm_bom_full_data= pd.merge(fg_rm_bom_full_data,color_master_data,on=['colormasterid'],how='inner')\n",
    "fg_rm_bom_full_data= pd.merge(fg_rm_bom_full_data,furnace_master_data,on=['psysfurnaceid'],how='inner')"
   ]
  },
  {
   "cell_type": "code",
   "execution_count": 10,
   "id": "8732d08e",
   "metadata": {
    "scrolled": true
   },
   "outputs": [],
   "source": [
    "furnace_std_eff_data_temp=furnace_std_eff_data.groupby(['color','furnance'])['docdate'].max()\n",
    "furnace_std_eff_data=pd.merge(furnace_std_eff_data,furnace_std_eff_data_temp,on=['color','furnance','docdate'],how='inner')\n",
    "furnace_std_eff_data.rename(columns={'color':'colormasterid','furnance':'psysfurnaceid'},inplace=True)\n",
    "fg_rm_bom_full_data= pd.merge(fg_rm_bom_full_data,furnace_std_eff_data,on=['psysfurnaceid','colormasterid'],how='inner')\n",
    "fg_rm_bom_full_data=fg_rm_bom_full_data.drop(columns=['docid_x','docdt','remarks', 'docdate', 'docid_y'],axis=1)"
   ]
  },
  {
   "cell_type": "code",
   "execution_count": 11,
   "id": "f2b9699b",
   "metadata": {},
   "outputs": [],
   "source": [
    "standard_rate_data = pd.merge(standard_rate_header_data,standard_rate_details_data,on=['stdprice_hdrid'],how='inner')\n",
    "\n",
    "standard_rate_data.rename(columns={'itemid':'rmitemid'},inplace=True)\n",
    "fg_rm_bom_full_data.rename(columns={'rmitemname':'rmitemid'},inplace=True)\n",
    "fg_rm_bom_full_data=pd.merge(standard_rate_data,fg_rm_bom_full_data,on=['rmitemid'],how='right')\n",
    "rm_item_data=item_master_data\n",
    "rm_item_data.rename(columns={'pmbasicid':'rmitemid'},inplace=True)\n",
    "fg_rm_bom_full_data=pd.merge(fg_rm_bom_full_data,rm_item_data,on=['rmitemid'],how='inner')"
   ]
  },
  {
   "cell_type": "code",
   "execution_count": 12,
   "id": "49ece331",
   "metadata": {},
   "outputs": [],
   "source": [
    "rm_cons_uom_data=uom_data\n",
    "rm_cons_uom_data.rename(columns={'uomid':'rmunitco'},inplace=True)\n",
    "\n",
    "fg_rm_bom_full_data=pd.merge(fg_rm_bom_full_data,rm_cons_uom_data,on=['rmunitco'],how='inner')\n",
    "fg_rm_bom_full_data['Amt/Batch']=fg_rm_bom_full_data['priceinuom']*fg_rm_bom_full_data['qtyperbatch']\n",
    "fg_rm_bom_full_data_exp=fg_rm_bom_full_data[['furnacename',\n",
    "                                             'colorname',\n",
    "                                             'productid',\n",
    "                                             'productdesc',\n",
    "                                             'unitcode',\n",
    "                                             'priceinuom',\n",
    "                                             'qtyperbatch','Amt/Batch',\n",
    "                                             'evloss',\n",
    "                                             'glassdraw',\n",
    "                                             'efficiency',\n",
    "                                            'culletqty']]"
   ]
  },
  {
   "cell_type": "code",
   "execution_count": 13,
   "id": "3045af22",
   "metadata": {
    "scrolled": true
   },
   "outputs": [],
   "source": [
    "fg_rm_bom_full_data_exp[\"Net Packed\"]=fg_rm_bom_full_data_exp[\"efficiency\"]*fg_rm_bom_full_data_exp[\"glassdraw\"]/100"
   ]
  },
  {
   "cell_type": "code",
   "execution_count": 14,
   "id": "b175ebe7",
   "metadata": {},
   "outputs": [],
   "source": [
    "fg_rm_bom_full_data_exp=fg_rm_bom_full_data_exp.sort_values(by=['furnacename','colorname'],ascending=True)\n",
    "fg_rm_bom_full_data_exp.rename(columns={'furnacename':'Furnace',\n",
    "                                        'colorname':'Color',\n",
    "                                        'productid':'Product ID',\n",
    "                                        'productdesc':'Product Name',\n",
    "                                        'priceinuom':'Rate in Cons.UOM',\n",
    "                                        'unitcode':'Cons. Unit',\n",
    "                                        'qtyperbatch':'Qty/Batch',\n",
    "                                        'evloss':'Evoperation Loss',\n",
    "                                        'glassdraw':'Glass Draw',\n",
    "                                        'efficiency':'Efficiency',\n",
    "                                       'culletqty':'Cullet Quantity'},inplace=True)"
   ]
  },
  {
   "cell_type": "code",
   "execution_count": 15,
   "id": "5a05d593",
   "metadata": {
    "scrolled": false
   },
   "outputs": [],
   "source": [
    "rm_culletrate=fg_rm_bom_full_data_exp.groupby(['Furnace','Color']).agg({'Amt/Batch':'sum','Glass Draw':'sum'}).reset_index()\n",
    "rm_culletrate[\"Cullet Rate\"]=rm_culletrate[\"Amt/Batch\"]/rm_culletrate[\"Glass Draw\"]\n",
    "rm_culletrate.drop(columns=['Amt/Batch','Glass Draw'],inplace=True)\n",
    "\n",
    "fg_rm_bom_full_data_exp=pd.merge(fg_rm_bom_full_data_exp,rm_culletrate,on=['Furnace','Color'],how='inner')\n",
    "fg_rm_bom_full_data_exp[\"Cullet Amount\"]=fg_rm_bom_full_data_exp['Cullet Quantity']*fg_rm_bom_full_data_exp[\"Cullet Rate\"]\n",
    "fg_rm_bom_full_data_exp[\"Amount Net\"]=fg_rm_bom_full_data_exp['Cullet Amount']*fg_rm_bom_full_data_exp[\"Cullet Rate\"]"
   ]
  },
  {
   "cell_type": "code",
   "execution_count": 16,
   "id": "b410a583",
   "metadata": {},
   "outputs": [],
   "source": [
    "item_master_data.rename(columns={'productgroup':'Product Group','productid':'Product ID','profitcode':'Profit Code','productdesc':'Product Desc'},inplace=True)"
   ]
  },
  {
   "cell_type": "markdown",
   "id": "c7c57678",
   "metadata": {},
   "source": [
    "# PACKING COSTING"
   ]
  },
  {
   "cell_type": "code",
   "execution_count": 17,
   "id": "9ed07302",
   "metadata": {
    "scrolled": true
   },
   "outputs": [
    {
     "name": "stdout",
     "output_type": "stream",
     "text": [
      "System is running Packing BOM....\n"
     ]
    }
   ],
   "source": [
    "pkg_bom_header_data=readoraclequery(query.pkg_bom_header_query) # 12. BOM Packing Header Query\n",
    "pkg_bom_detail_data=readoraclequery(query.pkg_bom_detail_query) # 13. BOM Packing Detail Query\n",
    "pkg_bom_header_data_max=pkg_bom_header_data.groupby(['fgitemcode']).agg({'appdate':'max'})"
   ]
  },
  {
   "cell_type": "code",
   "execution_count": 18,
   "id": "27f777f9",
   "metadata": {},
   "outputs": [],
   "source": [
    "fg_pkg_bom_full_data = pd.merge(pkg_bom_header_data,pkg_bom_detail_data,on=['bompackmaterialhrdid'],how='inner')\n",
    "fg_pkg_bom_full_data_exp=pd.merge(fg_pkg_bom_full_data,uom_data,left_on=['consumptionunit'],right_on=['rmunitco'],how='inner')"
   ]
  },
  {
   "cell_type": "markdown",
   "id": "1dc2aa2c",
   "metadata": {},
   "source": [
    "# COLOR SCREENING COSTING"
   ]
  },
  {
   "cell_type": "code",
   "execution_count": null,
   "id": "21c03f78",
   "metadata": {},
   "outputs": [],
   "source": [
    "screenhdr_data=readoraclequery(query.screenhdr_query) # 23.BOM Colors Screening Header Query\n",
    "screendtl_data=readoraclequery(query.screendtl_query) # 24.BOM Colors Screening Detail Query\n",
    "screen_full_data=pd.merge(screenhdr_data,screendtl_data,on=['screenhdr_dataid'],how='inner')"
   ]
  },
  {
   "cell_type": "markdown",
   "id": "1a56ee76",
   "metadata": {},
   "source": [
    "# COLOR COSTING"
   ]
  },
  {
   "cell_type": "code",
   "execution_count": null,
   "id": "98a241e6",
   "metadata": {},
   "outputs": [],
   "source": [
    "bomcolorshdr_data=readoraclequery(query.bomcolorshdr_query) # 21.BOM Colors Header Query\n",
    "bomcolorsdtl_data=readoraclequery(query.bomcolorsdtl_query) # 22.BOM Colors Detail Query\n",
    "color_full_data=pd.merge(bomcolorshdr_data,bomcolorsdtl_data,on=['bomcolorshdr_dataid'],how='inner')"
   ]
  },
  {
   "cell_type": "markdown",
   "id": "ac0b6e56",
   "metadata": {},
   "source": [
    "# COATING BOM"
   ]
  },
  {
   "cell_type": "code",
   "execution_count": 32,
   "id": "d122cdf5",
   "metadata": {},
   "outputs": [],
   "source": [
    "bomcoatinghdr_data=readoraclequery(query.bomcoatinghdr_query) # 19.BOM Coating Header Query\n",
    "bomcoatingdtl_data=readoraclequery(query.bomcoatingdtl_query) # 20. BOM Coating Detail Query"
   ]
  },
  {
   "cell_type": "markdown",
   "id": "c3c1bd7f",
   "metadata": {},
   "source": [
    "# DISPATCH BOM"
   ]
  },
  {
   "cell_type": "code",
   "execution_count": null,
   "id": "487f1de4",
   "metadata": {},
   "outputs": [],
   "source": [
    "bomdespatchhdr_data=readoraclequery(query.bomdespatchhdr_query) # 19. BOM Dispatch Header Query\n",
    "bomdespatchdtl_data=readoraclequery(query.bomdespatchdtl_query) # 20. BOM Dispatch Detail Query"
   ]
  },
  {
   "cell_type": "markdown",
   "id": "fb025e11",
   "metadata": {},
   "source": [
    "# LABORS BOM"
   ]
  },
  {
   "cell_type": "code",
   "execution_count": null,
   "id": "0b666813",
   "metadata": {},
   "outputs": [],
   "source": [
    "bom_labcost_hdr_data=readoraclequery(query.bom_labcost_hdr_query) # 15. BOM Cost for Labors Header Query\n",
    "bom_labcost_dtl_data=readoraclequery(query.bom_labcost_dtl_query) # 16. BOM Cost for Labors detail Query"
   ]
  },
  {
   "cell_type": "markdown",
   "id": "9ecf05db",
   "metadata": {},
   "source": [
    "# --------------------------EXCEL WRITING------------------------------"
   ]
  },
  {
   "cell_type": "markdown",
   "id": "0ea1e064",
   "metadata": {},
   "source": [
    "# Export the Masters"
   ]
  },
  {
   "cell_type": "markdown",
   "id": "24671609",
   "metadata": {},
   "source": [
    "#### Export Item Master"
   ]
  },
  {
   "cell_type": "code",
   "execution_count": 20,
   "id": "796632de",
   "metadata": {},
   "outputs": [],
   "source": [
    "os.mkdir(folder_name)\n",
    "######### EXCEL EXPORTS #############\n",
    "with pd.ExcelWriter(folder_name+\"/Masters.xlsx\") as writer:\n",
    "     fg_data.to_excel(writer,sheet_name=\"FG Item Master\",index=False)\n",
    "     item_master_data.to_excel(writer,sheet_name=\"Item Master\",index=False)"
   ]
  },
  {
   "cell_type": "markdown",
   "id": "1e17361c",
   "metadata": {},
   "source": [
    "#### Export Rate Master"
   ]
  },
  {
   "cell_type": "code",
   "execution_count": null,
   "id": "8c31b0d7",
   "metadata": {},
   "outputs": [],
   "source": [
    "with pd.ExcelWriter(folder_name+\"/ItemRateMaster.xlsx\") as writer:\n",
    "     fg_data.to_excel(writer,sheet_name=\"FG Item Master\",index=False)\n",
    "     item_master_data.to_excel(writer,sheet_name=\"Item Master\",index=False)"
   ]
  },
  {
   "cell_type": "markdown",
   "id": "a25a1938",
   "metadata": {},
   "source": [
    "#### Export BOM"
   ]
  },
  {
   "cell_type": "code",
   "execution_count": 21,
   "id": "ec27b5c8",
   "metadata": {},
   "outputs": [
    {
     "name": "stdout",
     "output_type": "stream",
     "text": [
      "Costing Processing is done!!\n"
     ]
    }
   ],
   "source": [
    "with pd.ExcelWriter(folder_name+\"/BOM_Sheets.xlsx\") as writer:\n",
    "     fg_rm_bom_full_data_exp.to_excel(writer,sheet_name=\"Furnace Costing\",index=False)\n",
    "     fg_pkg_bom_full_data.to_excel(writer,sheet_name=\"Packaging Costing\",index=False)\n",
    "\n",
    "print('Costing Processing is done!!')\n",
    "time.sleep(5)"
   ]
  }
 ],
 "metadata": {
  "kernelspec": {
   "display_name": "Python 3 (ipykernel)",
   "language": "python",
   "name": "python3"
  },
  "language_info": {
   "codemirror_mode": {
    "name": "ipython",
    "version": 3
   },
   "file_extension": ".py",
   "mimetype": "text/x-python",
   "name": "python",
   "nbconvert_exporter": "python",
   "pygments_lexer": "ipython3",
   "version": "3.10.0"
  }
 },
 "nbformat": 4,
 "nbformat_minor": 5
}
