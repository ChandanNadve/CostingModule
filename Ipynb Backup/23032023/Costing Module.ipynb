{
 "cells": [
  {
   "cell_type": "markdown",
   "id": "df7b8feb",
   "metadata": {},
   "source": [
    "# PROJECT NAME : COSTING MODULE"
   ]
  },
  {
   "cell_type": "markdown",
   "id": "27443fb2",
   "metadata": {},
   "source": [
    "## CHAPTER 1 BOM PROCESSING"
   ]
  },
  {
   "cell_type": "markdown",
   "id": "0e7857d7",
   "metadata": {},
   "source": [
    "IMPORT THE REQUIRED MODULES"
   ]
  },
  {
   "cell_type": "code",
   "execution_count": 28,
   "id": "5296abc0",
   "metadata": {},
   "outputs": [],
   "source": [
    "import datetime\n",
    "import sqlqueries as query\n",
    "from sqlqueryreader import *\n",
    "import pandas as pd\n",
    "import os\n",
    "import time\n",
    "import warnings\n",
    "import tkinter\n",
    "import numpy as np\n",
    "#from pandas.core.common import SettingWithCopyWarning\n",
    "import logging\n",
    "\n",
    "warnings.simplefilter(action=\"ignore\")\n",
    "\n",
    "now=datetime.datetime.now()\n",
    "f_time = now.strftime(\"%Y%m%d_%H%M%S\")\n",
    "folder_name = \"Costing_Process_\"+f_time\n",
    "pd.pandas.set_option('display.max_columns',None)\n",
    "\n",
    "os.mkdir(folder_name)\n",
    "logfile=open(folder_name+\"/ExecutionTimeLogFile.txt\",\"w+\")\n",
    "processlogfile=open(folder_name+\"/ProcessLogFile.txt\",\"w+\")"
   ]
  },
  {
   "cell_type": "markdown",
   "id": "e0e8b034",
   "metadata": {},
   "source": [
    "FUNCTION TO  READ ORACLE QUERY"
   ]
  },
  {
   "cell_type": "code",
   "execution_count": 29,
   "id": "d99a6984",
   "metadata": {},
   "outputs": [
    {
     "data": {
      "text/plain": [
       "50"
      ]
     },
     "execution_count": 29,
     "metadata": {},
     "output_type": "execute_result"
    }
   ],
   "source": [
    "starttime=datetime.datetime.now()\n",
    "logfile.write(f'The Costing Process is Started {datetime.datetime.now().strftime(\"%d/%m/%Y %H:%M:%S\")}')"
   ]
  },
  {
   "cell_type": "markdown",
   "id": "33dbaaea",
   "metadata": {},
   "source": [
    "PROCESSING COSTING MASTER TABLE IMPORT"
   ]
  },
  {
   "cell_type": "code",
   "execution_count": 30,
   "id": "85d4f7a4",
   "metadata": {},
   "outputs": [],
   "source": [
    "process_costing_data =readoraclequery(query.costing_process_query) #7 Costing Processing Master"
   ]
  },
  {
   "cell_type": "code",
   "execution_count": 31,
   "id": "0667b0bd",
   "metadata": {},
   "outputs": [],
   "source": [
    "# ASSIGN THE VARIABLE\n",
    "v_pricetype = process_costing_data.loc[0,'pricetype']\n",
    "v_efficiencytype = process_costing_data.loc[0,'efficiencytype']\n",
    "v_rawmaterialbomtype = process_costing_data.loc[0,'rawmaterialbomtype']\n",
    "v_packingbomtype = process_costing_data.loc[0,'packingbomtype']\n",
    "v_dispatchtype = process_costing_data.loc[0,'dispatchtype']\n",
    "v_colorstype = process_costing_data.loc[0,'colorstype']\n",
    "v_standardeference = process_costing_data.loc[0,'standardeference']\n",
    "v_coatingtype = process_costing_data.loc[0,'coatingtype']\n",
    "v_screeningtype = process_costing_data.loc[0,'screeningtype']\n",
    "v_fromdate = np.datetime64(process_costing_data.loc[0,'fromdate'])\n",
    "v_todate = np.datetime64(process_costing_data.loc[0,'todate'])"
   ]
  },
  {
   "cell_type": "code",
   "execution_count": 32,
   "id": "f9d2cf6a",
   "metadata": {},
   "outputs": [],
   "source": [
    "process_costing_data =readoraclequery(query.costing_process_query) #7 Costing Processing Master"
   ]
  },
  {
   "cell_type": "markdown",
   "id": "3605a641",
   "metadata": {},
   "source": [
    "MASTER TABLES PREPARATIONS"
   ]
  },
  {
   "cell_type": "code",
   "execution_count": 33,
   "id": "a1550fad",
   "metadata": {
    "scrolled": true
   },
   "outputs": [],
   "source": [
    "# Finished Goods Item Master and Item Master and UOM\n",
    "fg_data = readoraclequery(query.fg_query) #1 FG Master\n",
    "fg_data.rename(columns={'bottleconfiguration':'Bottle Configuration'},inplace=True)\n",
    "uom_data=readoraclequery(query.uom_query) #11 UOM Query\n",
    "fg_data_exp=fg_data.drop(columns=['finpmbasicid','pmbasicid'])\n",
    "currency_data=readoraclequery(query.currency_query)\n",
    "\n",
    "# Item Master\n",
    "item_master_data=readoraclequery(query.item_master_query) #8 Item Master\n",
    "item_master_data=item_master_data.merge(uom_data,left_on='primaryunit',right_on='uomid',how='inner')\n",
    "item_master_data.drop(columns=['primaryunit','uomid'],inplace=True)\n",
    "item_master_data.rename(columns={'unitcode':'Primary Unit'},inplace=True)"
   ]
  },
  {
   "cell_type": "markdown",
   "id": "ffdae5ef",
   "metadata": {},
   "source": [
    "Color Furnace and Line Master"
   ]
  },
  {
   "cell_type": "code",
   "execution_count": 34,
   "id": "556539d6",
   "metadata": {},
   "outputs": [],
   "source": [
    "color_master_data=readoraclequery(query.color_query ) #4 Color Master\n",
    "furnace_master_data=readoraclequery(query.furnace_query ) #5 Furnace Master\n",
    "line_master_data=readoraclequery(query.linemaster_query) # 26 Line Master Query "
   ]
  },
  {
   "cell_type": "markdown",
   "id": "dc9ae8d6",
   "metadata": {},
   "source": [
    "Processing , Selected Items and Reference Master"
   ]
  },
  {
   "cell_type": "code",
   "execution_count": 35,
   "id": "0739af8b",
   "metadata": {},
   "outputs": [],
   "source": [
    "reference_name_data=readoraclequery(query.reference_name_query) # 14. Reference Name Query\n",
    "selecteditem_data=readoraclequery(query.costing_process_query) # 25. Selected Items for Costing\n",
    "v_pricetype_name=reference_name_data[reference_name_data['referencenameid']==v_pricetype].reset_index()['referencename'][0]"
   ]
  },
  {
   "cell_type": "markdown",
   "id": "7808ebdd",
   "metadata": {},
   "source": [
    "Standard Efficiency"
   ]
  },
  {
   "cell_type": "code",
   "execution_count": 36,
   "id": "b962be57",
   "metadata": {},
   "outputs": [],
   "source": [
    "furnace_std_eff_data =readoraclequery(query.std_eff_query) #6 Standard Efficiency"
   ]
  },
  {
   "cell_type": "markdown",
   "id": "1bbdbe26",
   "metadata": {},
   "source": [
    "Standard Rates for BOM"
   ]
  },
  {
   "cell_type": "code",
   "execution_count": 37,
   "id": "2fc91389",
   "metadata": {},
   "outputs": [],
   "source": [
    "standard_rate_header_data=readoraclequery(query.standard_rate_header_query) #9 Standard Rate Header Data\n",
    "standard_rate_details_data=readoraclequery(query.standard_rate_details_query) #10 Standard Rate Grid Data\n",
    "standard_rate_header_data=standard_rate_header_data[standard_rate_header_data['name']==v_pricetype]\n",
    "standard_rate_header_data=standard_rate_header_data[standard_rate_header_data['appdate']<=v_todate]\n",
    "\n",
    "standard_rate_data = pd.merge(standard_rate_header_data,standard_rate_details_data,on=['stdprice_hdrid'],how='inner')\n",
    "standard_rate_data.rename(columns={'itemid':'rmitemid'},inplace=True)\n",
    "\n",
    "standard_rate_data_max=standard_rate_data.groupby(['rmitemid'])['appdate'].max().reset_index()\n",
    "standard_rate_data=pd.merge(standard_rate_data,standard_rate_data_max,on=('appdate','rmitemid'))\n",
    "\n",
    "stdr_uom_data=uom_data\n",
    "stdr_uom_data.rename(columns={'unitcode':'Consumption Unit'},inplace=True)"
   ]
  },
  {
   "cell_type": "markdown",
   "id": "0bc70831",
   "metadata": {},
   "source": [
    "Linking the Purchase UOM and Purchase Currency Master"
   ]
  },
  {
   "cell_type": "code",
   "execution_count": 38,
   "id": "be66bebd",
   "metadata": {},
   "outputs": [],
   "source": [
    "standard_rate_data=standard_rate_data.merge(stdr_uom_data,left_on='consumptionunit',right_on='uomid',how='inner')\n",
    "standard_rate_data=standard_rate_data.merge(currency_data,left_on='purcurrency',right_on='currencyid',how='inner')\n",
    "\n",
    "item_master_data=standard_rate_data.merge(item_master_data,left_on='rmitemid',right_on='pmbasicid',how='right')"
   ]
  },
  {
   "cell_type": "code",
   "execution_count": 39,
   "id": "8b383dd2",
   "metadata": {},
   "outputs": [],
   "source": [
    "item_master_data=item_master_data[['pmbasicid','productgroup', 'productid', 'profitcode', 'productdesc', 'Primary Unit',  'Consumption Unit',  \n",
    "                   'perqty', 'rate','conversionfactor',  'priceinuom','exrate',  'currency',\n",
    "                     'procategcode', 'procategory']]"
   ]
  },
  {
   "cell_type": "code",
   "execution_count": 40,
   "id": "20c69c7f",
   "metadata": {},
   "outputs": [],
   "source": [
    "item_master_data.rename(columns={'productgroup':'Product Group', \n",
    "                                 'productid':'Item Code', \n",
    "                                 'profitcode':'Profit Code',\n",
    "                                 'productdesc':'Product Desc', \n",
    "                                 'perqty':'Per Qty', \n",
    "                                 'rate':'Rate',\n",
    "                                 'conversionfactor':'Conversion Factor',  \n",
    "                                 'priceinuom':'Price in UOM',\n",
    "                                 'exrate':'Ex Rate',  \n",
    "                                 'currency':'Currency',\n",
    "                                 'procategcode':'Category Code', \n",
    "                                 'procategory':'Product Category'},inplace=True)"
   ]
  },
  {
   "attachments": {},
   "cell_type": "markdown",
   "id": "e39236b8",
   "metadata": {},
   "source": [
    "Actual Issue Rates"
   ]
  },
  {
   "cell_type": "code",
   "execution_count": 41,
   "id": "56291105",
   "metadata": {},
   "outputs": [],
   "source": [
    "actual_rate_data=readoraclequery(query.issue_query)\n",
    "actual_rate_data['year']=pd.to_datetime(actual_rate_data['docdt']).dt.year # Add the Year Column\n",
    "actual_rate_data=actual_rate_data[actual_rate_data['docdt']<=v_todate]\n",
    "actual_rate_data=actual_rate_data.groupby(['productid','year'])['amount','issueqty'].sum().reset_index()\n",
    "actual_rate_data['Actual Rate']=actual_rate_data['amount']/actual_rate_data['issueqty']\n",
    "actual_rate_data_max=actual_rate_data.groupby(['productid'])['year'].max().reset_index()\n",
    "actual_rate_data=actual_rate_data.merge(actual_rate_data_max,on=['productid','year'],how='inner')\n",
    "actual_rate_data.rename(columns={'year':'Consumption Year','issueqty':'Consumption Quantity','amount':'Consumption Amount'},inplace=True)\n",
    "item_master_data=actual_rate_data.merge(item_master_data,left_on='productid',right_on='pmbasicid',how='right')"
   ]
  },
  {
   "cell_type": "code",
   "execution_count": 42,
   "id": "ee6e56b5",
   "metadata": {},
   "outputs": [],
   "source": [
    "item_master_data=item_master_data[['pmbasicid','Product Group', 'Item Code', 'Profit Code', 'Product Desc',\n",
    "       'Primary Unit', 'Consumption Unit', 'Per Qty', 'Rate','Conversion Factor', 'Price in UOM', 'Ex Rate', 'Currency',\n",
    "       'Category Code', 'Product Category', 'Consumption Year', 'Consumption Amount', 'Consumption Quantity', 'Actual Rate']]"
   ]
  },
  {
   "cell_type": "code",
   "execution_count": 43,
   "id": "ecbb6981",
   "metadata": {},
   "outputs": [],
   "source": [
    "if v_pricetype_name!='STANDARD COSTING':\n",
    "    item_master_data['Price in UOM']= item_master_data['Actual Rate']"
   ]
  },
  {
   "cell_type": "code",
   "execution_count": 44,
   "id": "4063754f",
   "metadata": {},
   "outputs": [
    {
     "data": {
      "text/plain": [
       "'ACTUAL COSTING'"
      ]
     },
     "execution_count": 44,
     "metadata": {},
     "output_type": "execute_result"
    }
   ],
   "source": [
    "item_master_data"
   ]
  },
  {
   "attachments": {},
   "cell_type": "markdown",
   "id": "4e3c6af8",
   "metadata": {
    "tags": [
     "parameters"
    ]
   },
   "source": [
    "Efficiency Summary"
   ]
  },
  {
   "cell_type": "code",
   "execution_count": 45,
   "id": "f0071388",
   "metadata": {},
   "outputs": [],
   "source": [
    "efficiency_data=readoraclequery(query.efficiency_query)\n",
    "cy_efficiency_data_detailed=efficiency_data[(efficiency_data['docdt']<=v_todate)  & (efficiency_data['docdt']>=v_fromdate)]\n",
    "\n",
    "productwise_eff=cy_efficiency_data_detailed.groupby(['productid','productdesc'])['prbottles','packbottles','prodtonnage','packtonnage'].sum().reset_index()\n",
    "product_linewise_eff=cy_efficiency_data_detailed.groupby(['productid','productdesc','linedesc'])['prbottles','packbottles','prodtonnage','packtonnage'].sum().reset_index()\n",
    "linewise_eff=cy_efficiency_data_detailed.groupby(['linedesc'])['prbottles','packbottles','prodtonnage','packtonnage'].sum().reset_index()\n",
    "product_linewise_eff['Efficiency']=product_linewise_eff['packtonnage']/product_linewise_eff['prodtonnage']*100\n",
    "linewise_eff['Efficiency']=linewise_eff['packtonnage']/linewise_eff['prodtonnage']*100\n",
    "\n",
    "product_linewise_eff.rename(columns={'productid':'Product ID', 'productdesc':'Product Desc', 'linedesc':'Line Desc', \n",
    "                                     'prbottles':'Product Bottles', 'packbottles':'Packed Bottles',\n",
    "                                     'prodtonnage':'Production Tonnage', 'packtonnage':'Packed Tonnage'},inplace=True)\n",
    "\n",
    "linewise_eff.rename(columns={'productid':'Product ID', 'productdesc':'Product Desc', 'linedesc':'Line Desc',\n",
    "                             'prbottles':'Product Bottles', 'packbottles':'Packed Bottles',\n",
    "                             'prodtonnage':'Production Tonnage', 'packtonnage':'Packed Tonnage'},inplace=True)"
   ]
  },
  {
   "cell_type": "markdown",
   "id": "c7c57678",
   "metadata": {},
   "source": [
    "### PACKING COSTING"
   ]
  },
  {
   "attachments": {},
   "cell_type": "markdown",
   "id": "467a1b54",
   "metadata": {},
   "source": [
    "### FC1 FURNACE COSTING"
   ]
  },
  {
   "cell_type": "markdown",
   "id": "85273bb5",
   "metadata": {},
   "source": [
    "Part A - Reading the Furnance Header and Grid Data and Merging"
   ]
  },
  {
   "cell_type": "code",
   "execution_count": 46,
   "id": "9ed637dd",
   "metadata": {},
   "outputs": [],
   "source": [
    "logfile.write(f'\\nFurnace BOM started at {datetime.datetime.now().strftime(\"%d/%m/%Y %H:%M:%S\")}')\n",
    "\n",
    "fg_rm_bom_header_data = readoraclequery(query.rmbom_header_query) #2 RM Bill Of Material Header\n",
    "fg_rm_bom_details_data = readoraclequery(query.rmbom_detail_query) #3 RM Bill Of Material Detail\n",
    "\n",
    "# Take the Latest RM BOM\n",
    "fg_rm_bom_header_data=fg_rm_bom_header_data[fg_rm_bom_header_data['name']==v_rawmaterialbomtype]\n",
    "fg_rm_bom_header_data_temp=fg_rm_bom_header_data.groupby(['color','furnance'])['appdate'].max().reset_index()\n",
    "fg_rm_bom_header_data=pd.merge(fg_rm_bom_header_data,fg_rm_bom_header_data_temp,on=['color','furnance','appdate'],how='inner')\n",
    "fg_rm_bom_full_data = pd.merge(fg_rm_bom_header_data,fg_rm_bom_details_data,on=['rmbomhdrid'],how='inner')\n"
   ]
  },
  {
   "attachments": {},
   "cell_type": "markdown",
   "id": "20c3ae1d",
   "metadata": {},
   "source": [
    "Part B - Join With RM BOM Data Grid"
   ]
  },
  {
   "cell_type": "code",
   "execution_count": 47,
   "id": "83e2708c",
   "metadata": {},
   "outputs": [],
   "source": [
    "fg_rm_bom_full_data=fg_rm_bom_full_data[['color', 'furnance',  'rmitemname', 'rmitemcode', \n",
    "                                         'rmunitco','qtyperbatch', 'evloss', 'glassdraw', 'rmefficiency', 'rmnetpacked','culletqty']]"
   ]
  },
  {
   "cell_type": "code",
   "execution_count": 48,
   "id": "4c342c2b",
   "metadata": {},
   "outputs": [],
   "source": [
    "#Rename the Columns for Joining with color and furnace master and Join(Merge)\n",
    "fg_rm_bom_full_data.rename(columns={'color':'colormasterid','furnance':'psysfurnaceid'},inplace=True)\n",
    "fg_rm_bom_full_data=pd.merge(fg_rm_bom_full_data,color_master_data,on=['colormasterid'],how='inner')\n",
    "fg_rm_bom_full_data=pd.merge(fg_rm_bom_full_data,furnace_master_data,on=['psysfurnaceid'],how='inner')\n",
    "\n",
    "furnace_std_eff_data_temp=furnace_std_eff_data.groupby(['color','furnance'])['docdate'].max().reset_index()\n",
    "furnace_std_eff_data=pd.merge(furnace_std_eff_data,furnace_std_eff_data_temp,on=['color','furnance','docdate'],how='inner')\n",
    "\n",
    "furnace_std_eff_data.rename(columns={'color':'colormasterid','furnance':'psysfurnaceid'},inplace=True)\n",
    "fg_rm_bom_full_data= pd.merge(fg_rm_bom_full_data,furnace_std_eff_data,on=['psysfurnaceid','colormasterid'],how='inner')"
   ]
  },
  {
   "cell_type": "code",
   "execution_count": 49,
   "id": "02240f99",
   "metadata": {},
   "outputs": [],
   "source": [
    "raw_material_items=item_master_data[item_master_data['Product Group']=='RAW MATERIALS'].reset_index()\n",
    "raw_material_items[(raw_material_items['Primary Unit']=='MT') & (raw_material_items['Conversion Factor'].isna())]['Conversion Factor']=1000\n",
    "raw_material_items.loc[((raw_material_items['Primary Unit']=='MT') & (raw_material_items['Conversion Factor'].isna())),'Conversion Factor']=1000"
   ]
  },
  {
   "cell_type": "code",
   "execution_count": 50,
   "id": "58792147",
   "metadata": {},
   "outputs": [
    {
     "data": {
      "text/html": [
       "<div>\n",
       "<style scoped>\n",
       "    .dataframe tbody tr th:only-of-type {\n",
       "        vertical-align: middle;\n",
       "    }\n",
       "\n",
       "    .dataframe tbody tr th {\n",
       "        vertical-align: top;\n",
       "    }\n",
       "\n",
       "    .dataframe thead th {\n",
       "        text-align: right;\n",
       "    }\n",
       "</style>\n",
       "<table border=\"1\" class=\"dataframe\">\n",
       "  <thead>\n",
       "    <tr style=\"text-align: right;\">\n",
       "      <th></th>\n",
       "      <th>pmbasicid</th>\n",
       "      <th>Product Group</th>\n",
       "      <th>Item Code</th>\n",
       "      <th>Profit Code</th>\n",
       "      <th>Product Desc</th>\n",
       "      <th>Primary Unit</th>\n",
       "      <th>Consumption Unit</th>\n",
       "      <th>Per Qty</th>\n",
       "      <th>Rate</th>\n",
       "      <th>Conversion Factor</th>\n",
       "      <th>Price in UOM</th>\n",
       "      <th>Ex Rate</th>\n",
       "      <th>Currency</th>\n",
       "      <th>Category Code</th>\n",
       "      <th>Product Category</th>\n",
       "      <th>Consumption Year</th>\n",
       "      <th>Consumption Amount</th>\n",
       "      <th>Consumption Quantity</th>\n",
       "      <th>Actual Rate</th>\n",
       "    </tr>\n",
       "  </thead>\n",
       "  <tbody>\n",
       "    <tr>\n",
       "      <th>14565</th>\n",
       "      <td>17063000006025</td>\n",
       "      <td>RAW MATERIALS</td>\n",
       "      <td>RMTCALUM0001</td>\n",
       "      <td>RMCLM004</td>\n",
       "      <td>CALUMITE</td>\n",
       "      <td>MT</td>\n",
       "      <td>NaN</td>\n",
       "      <td>NaN</td>\n",
       "      <td>NaN</td>\n",
       "      <td>NaN</td>\n",
       "      <td>51.264786</td>\n",
       "      <td>NaN</td>\n",
       "      <td>NaN</td>\n",
       "      <td>CALUM</td>\n",
       "      <td>CALUMITE</td>\n",
       "      <td>2023.0</td>\n",
       "      <td>6703.896006</td>\n",
       "      <td>130.77</td>\n",
       "      <td>51.264786</td>\n",
       "    </tr>\n",
       "  </tbody>\n",
       "</table>\n",
       "</div>"
      ],
      "text/plain": [
       "            pmbasicid  Product Group     Item Code Profit Code Product Desc  \\\n",
       "14565  17063000006025  RAW MATERIALS  RMTCALUM0001    RMCLM004     CALUMITE   \n",
       "\n",
       "      Primary Unit Consumption Unit  Per Qty  Rate  Conversion Factor  \\\n",
       "14565           MT              NaN      NaN   NaN                NaN   \n",
       "\n",
       "       Price in UOM  Ex Rate Currency Category Code Product Category  \\\n",
       "14565     51.264786      NaN      NaN         CALUM         CALUMITE   \n",
       "\n",
       "       Consumption Year  Consumption Amount  Consumption Quantity  Actual Rate  \n",
       "14565            2023.0         6703.896006                130.77    51.264786  "
      ]
     },
     "execution_count": 50,
     "metadata": {},
     "output_type": "execute_result"
    }
   ],
   "source": [
    "item_master_data[item_master_data['Item Code']=='RMTCALUM0001']"
   ]
  },
  {
   "cell_type": "code",
   "execution_count": 51,
   "id": "32003120",
   "metadata": {},
   "outputs": [],
   "source": [
    "rm_item_data=item_master_data\n",
    "fg_rm_bom_full_data=pd.merge(fg_rm_bom_full_data,rm_item_data,left_on='rmitemname' ,right_on='pmbasicid',how='inner')\n",
    "\n",
    "rm_cons_uom_data=uom_data\n",
    "rm_cons_uom_data.rename(columns={'uomid':'rmunitco','unitcode':'Consumption Unit'},inplace=True)\n",
    "\n",
    "fg_rm_bom_full_data=pd.merge(fg_rm_bom_full_data,rm_cons_uom_data,on=['rmunitco'],how='inner')\n",
    "fg_rm_bom_full_data['Amt/Batch']=fg_rm_bom_full_data['Price in UOM']*fg_rm_bom_full_data['qtyperbatch']\n",
    "   \n",
    "fg_rm_bom_full_data_exp=fg_rm_bom_full_data[['furnacename','colorname', 'Item Code','Product Desc','Primary Unit','Price in UOM','qtyperbatch',\n",
    "                                             'Amt/Batch','evloss','glassdraw','efficiency','culletqty']]\n",
    "\n",
    "fg_rm_bom_full_data_exp[\"Net Packed\"]=fg_rm_bom_full_data_exp[\"efficiency\"]*fg_rm_bom_full_data_exp[\"glassdraw\"]/100\n"
   ]
  },
  {
   "cell_type": "code",
   "execution_count": 52,
   "id": "8e76b4e2",
   "metadata": {},
   "outputs": [],
   "source": [
    "fg_rm_bom_full_data_exp=fg_rm_bom_full_data_exp.sort_values(by=['furnacename','colorname'],ascending=True)\n",
    "fg_rm_bom_full_data_exp.rename(columns={'furnacename':'Furnace',\n",
    "                                        'colorname':'Color',\n",
    "                                        'productid':'Product ID',\n",
    "                                        'productdesc':'Product Name',\n",
    "                                        'priceinuom':'Rate in Cons.UOM',\n",
    "                                        'unitcode':'Cons. Unit',\n",
    "                                        'qtyperbatch':'Qty/Batch',\n",
    "                                        'evloss':'Evoperation Loss',\n",
    "                                        'glassdraw':'Glass Draw',\n",
    "                                        'efficiency':'Efficiency',\n",
    "                                       'culletqty':'Cullet Quantity'},inplace=True)\n",
    "\n",
    "rm_culletrate=fg_rm_bom_full_data_exp.groupby(['Furnace','Color']).agg({'Amt/Batch':'sum','Glass Draw':'sum'}).reset_index()\n",
    "rm_culletrate[\"Cullet Rate\"]=rm_culletrate[\"Amt/Batch\"]/rm_culletrate[\"Glass Draw\"]\n",
    "rm_culletrate.drop(columns=['Amt/Batch','Glass Draw'],inplace=True)\n",
    "\n",
    "fg_rm_bom_full_data_exp=pd.merge(fg_rm_bom_full_data_exp,rm_culletrate,on=['Furnace','Color'],how='inner')\n",
    "fg_rm_bom_full_data_exp[\"Cullet Amount\"]=fg_rm_bom_full_data_exp['Cullet Quantity']*fg_rm_bom_full_data_exp[\"Cullet Rate\"]\n",
    "fg_rm_bom_full_data_exp[\"Amount Net\"]=fg_rm_bom_full_data_exp['Cullet Amount']*fg_rm_bom_full_data_exp[\"Cullet Rate\"]\n",
    "\n",
    "fg_rm_bom_summary_data_exp=fg_rm_bom_full_data_exp.groupby(['Furnace','Color','Evoperation Loss', 'Efficiency'])['Qty/Batch', 'Amt/Batch', 'Glass Draw', \n",
    "                                                                                                                 'Cullet Quantity','Net Packed', 'Cullet Rate', 'Cullet Amount', 'Amount Net'].sum().reset_index()"
   ]
  },
  {
   "cell_type": "markdown",
   "id": "c7c57678",
   "metadata": {},
   "source": [
    "### PACKING COSTING"
   ]
  },
  {
   "cell_type": "markdown",
   "id": "6ca9d61e",
   "metadata": {},
   "source": [
    "Fetching Header Data and Taking the latest Packing Cost BOM"
   ]
  },
  {
   "cell_type": "code",
   "execution_count": 53,
   "id": "29201556",
   "metadata": {},
   "outputs": [],
   "source": [
    "logfile.write(f'\\nPacking BOM started at {datetime.datetime.now().strftime(\"%d/%m/%Y %H:%M:%S\")}')\n",
    "# Reading the Packing BOM Header and Details Tables\n",
    "pkg_bom_header_data=readoraclequery(query.pkg_bom_header_query) # 12. BOM Packing Header Query\n",
    "pkg_bom_detail_data=readoraclequery(query.pkg_bom_detail_query) # 13. BOM Packing Detail Query\n",
    "\n",
    "# Taking the latest Packing BOM\n",
    "pkg_bom_header_data_max=pkg_bom_header_data.groupby(['fgitemcode']).agg({'appdate':'max'}).reset_index()\n",
    "tray_master_data=readoraclequery(query.tray_master_query)\n",
    "packing_bom_code_data=readoraclequery(query.packing_bom_code_query)\n",
    "pkg_bom_header_data=pkg_bom_header_data.fillna(0)\n",
    "\n",
    "fg_pkg_bom_full_data=pd.merge(pkg_bom_header_data,pkg_bom_header_data_max,on='fgitemcode',how='inner')\n",
    "fg_pkg_bom_full_data_exp=pd.merge(pkg_bom_header_data,pkg_bom_detail_data,on=['bompackmaterialhrdid'],how='inner')\n",
    "fg_pkg_bom_full_data_exp.drop(columns=['bompackmaterialhrdid','appdate','name','bompackmaterialdtlid'],inplace=True)\n",
    "\n",
    "# Joined with Finshed Goods and Packing Material Code\n",
    "fg_data_pkg=fg_data[[\"finpmbasicid\",\"Product Group\",\"FG Code\",\"FG Name\",\"Qty/Tray\",\"Tray/Pallet\",\"Qty/Pallet\"]]\n",
    "fg_data_pkg.rename(columns={\"Product Group\":\"FG Product Group\"},inplace=True)\n",
    "\n",
    "rm_data_pkg=item_master_data[['pmbasicid', 'Product Group', 'Item Code', 'Profit Code',\n",
    "       'Product Desc', 'Primary Unit', 'Consumption Unit', 'Per Qty', 'Rate',\n",
    "       'Conversion Factor', 'Price in UOM', 'Ex Rate', 'Currency',\n",
    "       'Category Code', 'Product Category']]\n",
    "fg_pkg_bom_full_data_exp=pd.merge(fg_pkg_bom_full_data_exp,fg_data_pkg,left_on=[\"fgitemcode\"],right_on=[\"finpmbasicid\"],how=\"inner\")\n",
    "fg_pkg_bom_full_data_exp=pd.merge(fg_pkg_bom_full_data_exp,rm_data_pkg,left_on=[\"matcode\"],right_on=[\"pmbasicid\"],how=\"inner\")\n",
    "\n",
    "fg_pkg_bom_full_data_exp=pd.merge(fg_pkg_bom_full_data_exp,packing_bom_code_data,left_on=[\"packingtype\"],right_on=[\"csysbommasterid\"],how=\"inner\")\n",
    "fg_pkg_bom_full_data_exp=pd.merge(fg_pkg_bom_full_data_exp,tray_master_data,left_on=[\"traycode\"],right_on=[\"psystraymasterid\"],how=\"inner\")"
   ]
  },
  {
   "cell_type": "code",
   "execution_count": 54,
   "id": "9ed07302",
   "metadata": {
    "scrolled": true
   },
   "outputs": [],
   "source": [
    "fg_pkg_bom_full_data_exp=fg_pkg_bom_full_data_exp.fillna(0)\n",
    "fg_pkg_bom_full_data_exp=fg_pkg_bom_full_data_exp[[ 'FG Code', 'FG Name','bom_code', 'bom_name','tray_code', 'tray_name',\n",
    "       'Qty/Tray','FG Product Group',\n",
    "       'bottbox', 'boxlayer', 'boxpallet', 'boxcount','bottlespercontainer','Qty/Tray',\n",
    "       'Tray/Pallet', 'Qty/Pallet', 'Product Group',\n",
    "       'Item Code', 'Profit Code', 'Product Desc', 'Primary Unit', 'Consumption Unit',\n",
    "       'qtyco', 'qtycon','Rate']]\n",
    "\n",
    "fg_pkg_bom_full_data_exp.rename(columns={'bom_code':'BOM Code','bom_name':'BOM Name','tray_code':'Tray Code',\n",
    "                                         'tray_name':'Tray Name','bottbox':'Bottles/Box','boxlayer':'Box/Layer',\n",
    "                                         'boxpallet':'Box/Pallet','boxcount':'Box/Count','qtyco':'Qty',\n",
    "                                         'qtycon':'Qty/Container','bottlespercontainer':\"Bottles/Container\"},inplace=True)\n",
    "\n",
    "fg_pkg_bom_full_data_exp['Amount']=(fg_pkg_bom_full_data_exp['Qty']*fg_pkg_bom_full_data_exp['Rate']/fg_pkg_bom_full_data_exp['Qty/Pallet'] )+fg_pkg_bom_full_data_exp['Qty/Container']*fg_pkg_bom_full_data_exp['Rate']/fg_pkg_bom_full_data_exp['Bottles/Container']"
   ]
  },
  {
   "attachments": {},
   "cell_type": "markdown",
   "id": "2793956f",
   "metadata": {},
   "source": [
    "### PACKING SUMMARY COSTING"
   ]
  },
  {
   "cell_type": "code",
   "execution_count": 55,
   "id": "ac60072b",
   "metadata": {},
   "outputs": [],
   "source": [
    "fg_pkg_bom_summary_data=fg_pkg_bom_full_data_exp.groupby(['FG Code','FG Name'])['Amount'].sum().reset_index()"
   ]
  },
  {
   "cell_type": "markdown",
   "id": "1dc2aa2c",
   "metadata": {},
   "source": [
    "### COLOR SCREENING COSTING"
   ]
  },
  {
   "cell_type": "code",
   "execution_count": 56,
   "id": "21c03f78",
   "metadata": {},
   "outputs": [],
   "source": [
    "logfile.write(f'\\nColor Screening BOM started at {datetime.datetime.now().strftime(\"%d/%m/%Y %H:%M:%S\")}')\n",
    "screenhdr_data=readoraclequery(query.screenhdr_query) # 23.BOM Colors Screening Header Query\n",
    "screendtl_data=readoraclequery(query.screendtl_query) # 24.BOM Colors Screening Detail Query\n",
    "\n",
    "screendtl_data=screendtl_data[['bomcolorshdr_scrid',  'matcode', 'qtyco']]\n",
    "\n",
    "screenhdr_data=screenhdr_data[screenhdr_data['name']==v_screeningtype]\n",
    "\n",
    "screenhdr_data=screenhdr_data[screenhdr_data['appdate']<=v_todate]\n",
    "screenhdr_data=screenhdr_data[['bomcolorshdr_scrid',  'fgitemcode']]\n",
    "\n",
    "screen_full_data=pd.merge(screenhdr_data,screendtl_data,on=['bomcolorshdr_scrid'],how='inner')\n",
    "screen_full_data_exp=screen_full_data\n",
    "\n",
    "fg_data_clrscreen=item_master_data[['pmbasicid', 'Product Group', 'Item Code', 'Profit Code',\n",
    "       'Product Desc', 'Primary Unit', 'Consumption Unit', 'Per Qty', 'Rate',\n",
    "       'Conversion Factor', 'Price in UOM', 'Ex Rate', 'Currency',\n",
    "       'Category Code', 'Product Category']]\n",
    "screen_full_data_exp=pd.merge(screen_full_data_exp,fg_data_clrscreen,left_on='matcode',right_on='pmbasicid',how='inner')\n",
    "\n",
    "screen_full_data_exp=screen_full_data_exp[[   'Item Code','Product Desc', 'Primary Unit', 'Consumption Unit','Per Qty', 'Rate', 'Conversion Factor', 'Price in UOM', 'Ex Rate',\n",
    "       'Currency', 'Category Code', 'Product Category','qtyco']]\n",
    "screen_full_data_exp['Cost/Screen']=screen_full_data_exp['Price in UOM']/screen_full_data_exp['qtyco']\n",
    "screen_full_data_exp.rename(columns={'qtyco':'No.Of Screens'},inplace=True)"
   ]
  },
  {
   "cell_type": "markdown",
   "id": "1a56ee76",
   "metadata": {},
   "source": [
    "### COLOR COSTING"
   ]
  },
  {
   "cell_type": "code",
   "execution_count": 57,
   "id": "98a241e6",
   "metadata": {},
   "outputs": [],
   "source": [
    "logfile.write(f'\\nColor BOM started at {datetime.datetime.now().strftime(\"%d/%m/%Y %H:%M:%S\")}')\n",
    "bomcolorshdr_data=readoraclequery(query.bomcolorshdr_query) # 21.BOM Colors Header Query\n",
    "\n",
    "bomcolorshdr_data=bomcolorshdr_data[bomcolorshdr_data['name']==v_colorstype]  #Consider the type of Costing\n",
    "bomcolorshdr_data=bomcolorshdr_data[bomcolorshdr_data['appdate']<=v_todate]  #Consider he record which are all before todate\n",
    "bomcolorshdr_data_max=bomcolorshdr_data.groupby('fgitemcode')['docdt'].max().reset_index()\n",
    "bomcolorshdr_data=pd.merge(bomcolorshdr_data,bomcolorshdr_data_max,on=['fgitemcode','docdt'],how='inner')\n",
    "bomcolorshdr_data=bomcolorshdr_data[['bomcolorshdrid', 'fgitemcode','stdbottqty']]\n",
    "\n",
    "bomcolorsdtl_data=readoraclequery(query.bomcolorsdtl_query) # 22.BOM Colors Detail Query\n",
    "bomcolorsdtl_data=bomcolorsdtl_data[['bomcolorshdrid', 'matcode','qtyco']]\n",
    "\n",
    "color_full_data=pd.merge(bomcolorshdr_data,bomcolorsdtl_data,on=['bomcolorshdrid'],how='inner')\n",
    "color_full_data_exp=color_full_data\n",
    "\n",
    "fg_data_clr=fg_data[[\"finpmbasicid\",\"FG Code\",\"FG Name\",\"Qty/Tray\",\"Tray/Pallet\",\"Qty/Pallet\",\"Qty/Pallet\"]]\n",
    "rm_data_clr=item_master_data[['pmbasicid', 'Product Group', 'Item Code', 'Profit Code','Product Desc', 'Primary Unit','Consumption Unit','Price in UOM']]\n",
    "color_full_data_exp=pd.merge(color_full_data_exp,fg_data_clr,left_on=[\"fgitemcode\"],right_on=[\"finpmbasicid\"],how=\"inner\")\n",
    "color_full_data_exp=pd.merge(color_full_data_exp,rm_data_clr,left_on=[\"matcode\"],right_on=[\"pmbasicid\"],how=\"inner\")\n",
    "\n",
    "color_full_data_exp=color_full_data_exp[['FG Code', 'FG Name','Item Code', 'Product Desc', 'Primary Unit','Consumption Unit','qtyco', 'Price in UOM','stdbottqty']]\n",
    "color_full_data_exp.rename(columns={'qtyco':'Quantity','stdbottqty':'Per Bottles'},inplace=True)\n",
    "color_full_data_exp['Amount']=color_full_data_exp['Quantity']*color_full_data_exp['Price in UOM']\n",
    "\n",
    "color_full_data_exp['Rate/Bottle']=color_full_data_exp['Amount']/color_full_data_exp['Per Bottles']\n",
    "color_summary_data_exp=color_full_data_exp.groupby(['FG Code', 'FG Name'])['Rate/Bottle'].sum().reset_index()"
   ]
  },
  {
   "cell_type": "markdown",
   "id": "ac0b6e56",
   "metadata": {},
   "source": [
    "### COATING BOM"
   ]
  },
  {
   "cell_type": "code",
   "execution_count": 58,
   "id": "d122cdf5",
   "metadata": {},
   "outputs": [],
   "source": [
    "logfile.write(f'\\nCoating BOM started at {datetime.datetime.now().strftime(\"%d/%m/%Y %H:%M:%S\")}')\n",
    "try:\n",
    "    bomcoatinghdr_data=readoraclequery(query.bomcoatinghdr_query) # 19.BOM Coating Header Query\n",
    "    bomcoatinghdr_data=bomcoatinghdr_data[['bomcoatinghdrid','appdate', 'name', 'line','linespeed']] # Removed Unwanted Columns in header table\n",
    "    bomcoatinghdr_data=bomcoatinghdr_data[bomcoatinghdr_data['appdate']<=v_todate]  # Take the coating dat which is applicable is less than todat\n",
    "    bomcoatinghdr_data=bomcoatinghdr_data[bomcoatinghdr_data['name']==(v_coatingtype)] # Take the selecledt Coating Type\n",
    "    bomcoatinghdr_data=bomcoatinghdr_data[['bomcoatinghdrid','line','linespeed']]\n",
    "    bomcoatingdtl_data=readoraclequery(query.bomcoatingdtl_query) # 20. BOM Coating Detail Query\n",
    "    bomcoatingdtl_data=bomcoatingdtl_data[['bomcoatinghdrid', 'coatingitemname','coatingitemcode', 'coatingunitco', 'coatqty', 'coatremarks']]\n",
    "\n",
    "    coating_full_data=pd.merge(bomcoatinghdr_data,bomcoatingdtl_data,on=['bomcoatinghdrid'],how='inner')\n",
    "    coating_full_data_exp=coating_full_data[[ 'line','linespeed', 'coatingitemname', 'coatingitemcode','coatingunitco', 'coatqty']]\n",
    "    rm_data_coat=item_master_data[['pmbasicid', 'Product Group', 'Item Code', 'Profit Code','Product Desc', 'Primary Unit',\n",
    "                                    'Consumption Unit', 'Per Qty', 'Rate','Conversion Factor', 'Price in UOM', \n",
    "                                    'Ex Rate', 'Currency','Category Code', 'Product Category']]\n",
    "\n",
    "    coating_full_data_exp=pd.merge(coating_full_data_exp,rm_data_coat,left_on='coatingitemname',right_on='pmbasicid',how='inner')\n",
    "    coating_full_data_exp=pd.merge(coating_full_data_exp,line_master_data,left_on=[\"line\"],right_on=[\"psyslinemasterid\"],how=\"inner\")\n",
    "\n",
    "    coating_full_data_exp.rename(columns={'lineid':'Line ID', 'linedesc':'Line Desc','linespeed':'Line Speed'},inplace=True)\n",
    "\n",
    "    coating_full_data_exp=coating_full_data_exp[['Product Group','Item Code','Product Desc', 'Primary Unit','Line ID', 'Line Desc','Line Speed', 'Consumption Unit', 'coatqty','Price in UOM']]\n",
    "    coating_full_data_exp.rename(columns={'coatqty':'Quantity Cons'},inplace=True)\n",
    "    coating_full_data_exp['Bottles/Day']=coating_full_data_exp['Line Speed']*24*60\n",
    "\n",
    "    coating_full_data_exp['Cost/Day']=coating_full_data_exp['Quantity Cons']*coating_full_data_exp['Price in UOM']\n",
    "\n",
    "    coating_full_data_exp['Cost/Bottle']=coating_full_data_exp['Cost/Day']/coating_full_data_exp['Bottles/Day']\n",
    "    coating_summary_data_exp=coating_full_data_exp.groupby(['Line Desc'])['Cost/Bottle'].sum().reset_index()\n",
    "except Exception as e:\n",
    "    logfile.write(f'\\nCoating BOM occured Error {e} at {datetime.datetime.now().strftime(\"%d/%m/%Y %H:%M:%S\")}')\n",
    "    print(f'\\nCoating BOM occured Error {e} at {datetime.datetime.now().strftime(\"%d/%m/%Y %H:%M:%S\")}')"
   ]
  },
  {
   "cell_type": "markdown",
   "id": "c3c1bd7f",
   "metadata": {},
   "source": [
    "### DISPATCH BOM"
   ]
  },
  {
   "cell_type": "code",
   "execution_count": 59,
   "id": "c429b131",
   "metadata": {},
   "outputs": [],
   "source": [
    "logfile.write(f'\\nDispatch BOM started at {datetime.datetime.now().strftime(\"%d/%m/%Y %H:%M:%S\")}')\n",
    "bomdespatchhdr_data=readoraclequery(query.bomdespatchhdr_query) # 19. BOM Dispatch Header Query\n",
    "bomdespatchhdr_data=bomdespatchhdr_data[bomdespatchhdr_data['name']==v_dispatchtype]\n",
    "bomdespatchhdr_data=bomdespatchhdr_data[bomdespatchhdr_data['appdate']<=v_todate]\n",
    "bomdespatchhdr_data[bomdespatchhdr_data['appdate']==np.datetime64(bomdespatchhdr_data['appdate'].max())]\n",
    "bomdespatchhdr_data=bomdespatchhdr_data[['bomdespatchhdrid','despatch']]\n",
    "\n",
    "bomdespatchdtl_data=readoraclequery(query.bomdespatchdtl_query) # 20. BOM Dispatch Detail Query\n",
    "bomdespatch_full_data=pd.merge(bomdespatchhdr_data,bomdespatchdtl_data,on=['bomdespatchhdrid'],how='inner')\n",
    "bomdespatch_full_data_exp=bomdespatch_full_data\n",
    "\n",
    "despatchcode_data=readoraclequery(query.despatchcode_query)\n",
    "despatchcode_data.rename(columns={'desp_code':'Despatch Code','desp_name':'Despatch Name','desp_details':'Despatch Details'},inplace=True)\n",
    "bomdespatch_full_data_exp=pd.merge(bomdespatch_full_data_exp,despatchcode_data,left_on='despatch',right_on='csystdespatchid',how='inner')\n",
    "\n",
    "rm_data_des=item_master_data[['pmbasicid', 'Product Group', 'Item Code', 'Profit Code','Product Desc', 'Primary Unit','Consumption Unit','Price in UOM']]\n",
    "bomdespatch_full_data_exp=pd.merge(bomdespatch_full_data_exp,rm_data_pkg,left_on=[\"itemname\"],right_on=[\"pmbasicid\"],how=\"inner\")\n",
    "\n",
    "bomdespatch_full_data_exp=bomdespatch_full_data_exp[['Despatch Code','Item Code', 'Product Desc', 'Primary Unit', 'qty','Price in UOM','Despatch Name']]\n",
    "\n",
    "bomdespatch_full_data_exp['Amount']=bomdespatch_full_data_exp['qty']*bomdespatch_full_data_exp['Price in UOM']\n",
    "bomdespatch_full_data_exp.rename(columns={'qty':'Quantity'},inplace='True')"
   ]
  },
  {
   "cell_type": "markdown",
   "id": "fb025e11",
   "metadata": {},
   "source": [
    "### LABORS BOM"
   ]
  },
  {
   "cell_type": "code",
   "execution_count": 60,
   "id": "a257eb37",
   "metadata": {},
   "outputs": [],
   "source": [
    "logfile.write(f'\\nLabour BOM started at {datetime.datetime.now().strftime(\"%d/%m/%Y %H:%M:%S\")}')\n",
    "bom_labcost_hdr_data=readoraclequery(query.bom_labcost_hdr_query) # 15. BOM Cost for Labors Header Query\n",
    "bom_labcost_dtl_data=readoraclequery(query.bom_labcost_dtl_query) # 16. BOM Cost for Labors detail Query\n",
    "bom_labcost_hdr_data=bom_labcost_hdr_data[['bom_labcost_hdrid', 'docid', 'docdt','name' ,'appdate']]"
   ]
  },
  {
   "cell_type": "code",
   "execution_count": 61,
   "id": "0b666813",
   "metadata": {},
   "outputs": [],
   "source": [
    "logfile.write(f'\\nLabour BOM started at {datetime.datetime.now().strftime(\"%d/%m/%Y %H:%M:%S\")}')\n",
    "bom_labcost_hdr_data=readoraclequery(query.bom_labcost_hdr_query) # 15. BOM Cost for Labors Header Query\n",
    "bom_labcost_dtl_data=readoraclequery(query.bom_labcost_dtl_query) # 16. BOM Cost for Labors detail Query\n",
    "bom_labcost_hdr_data=bom_labcost_hdr_data[['bom_labcost_hdrid', 'docid', 'docdt','name' ,'appdate']]\n",
    "\n",
    "bom_labcost_hdr_data=bom_labcost_hdr_data[bom_labcost_hdr_data['appdate']<= v_todate]\n",
    "bom_labcost_hdr_data[bom_labcost_hdr_data['appdate']==np.datetime64(bom_labcost_hdr_data['appdate'].max())]\n",
    "bom_labcost_full_data=pd.merge(bom_labcost_hdr_data,bom_labcost_dtl_data,on=['bom_labcost_hdrid'],how='inner')\n",
    "bom_labcost_full_data_exp=bom_labcost_full_data"
   ]
  },
  {
   "cell_type": "markdown",
   "id": "0bc5b877",
   "metadata": {},
   "source": [
    "### LINE PRODUCTWISE EFFICIENCY"
   ]
  },
  {
   "attachments": {},
   "cell_type": "markdown",
   "id": "27443fb2",
   "metadata": {},
   "source": [
    "## 2. OVERHEAD CALCULATION"
   ]
  },
  {
   "attachments": {},
   "cell_type": "markdown",
   "id": "acd44ae0",
   "metadata": {},
   "source": [
    "ACL Running Days"
   ]
  },
  {
   "cell_type": "code",
   "execution_count": 62,
   "id": "4fdc6180",
   "metadata": {},
   "outputs": [],
   "source": [
    "acl_running_days_data=readoraclequery(query.acl_running_days_query)\n",
    "acl_running_days_data=acl_running_days_data[(acl_running_days_data['lastday']>=v_fromdate) & (acl_running_days_data['lastday']<=v_todate)]\n",
    "acl_running_days_data=acl_running_days_data.rename(columns={'line':'Line','noofdays1':'No.Of Days','lastday':'Month'}).reset_index()"
   ]
  },
  {
   "attachments": {},
   "cell_type": "markdown",
   "id": "80ae7aa2",
   "metadata": {},
   "source": [
    "Gas and Power Data Split Up"
   ]
  },
  {
   "cell_type": "code",
   "execution_count": 63,
   "id": "fba25604",
   "metadata": {},
   "outputs": [],
   "source": [
    "gas_power_data=readoraclequery(query.gas_power_query)\n",
    "gas_power_data_max=gas_power_data.groupby(['type','utype','rate','line'])['asondate'].max().reset_index()\n",
    "gas_power_data=gas_power_data.merge(gas_power_data_max,on=['type','utype','rate','line','asondate'],how='inner')\n",
    "gas_power_data=gas_power_data[['utype', 'rate', 'line', 'unitsphour']]\n",
    "gas_power_data.rename(columns={'utype':'Utility', 'rate':'Rate', 'line':'ACL', 'unitsphour':'Units/Hour'},inplace=True)\n",
    "power_rate=gas_power_data[gas_power_data['Utility']=='Power'].reset_index()['Rate'][0]\n",
    "gas_rate=gas_power_data[gas_power_data['Utility']=='Gas'].reset_index()['Rate'][0]\n",
    "acl_running_days_total=acl_running_days_data.groupby('Line')['No.Of Days'].sum().reset_index()\n",
    "split_acl=gas_power_data.merge(acl_running_days_total,left_on='ACL',right_on='Line',how='inner')\n",
    "split_acl['Units/Day']=split_acl['Units/Hour']*24\n",
    "split_acl['Rate/Day']=split_acl['Rate']*split_acl['Units/Day']\n",
    "split_acl['Utility Amount']=split_acl['Rate/Day']*split_acl['No.Of Days']\n",
    "split_acl=split_acl[['Utility',  'Line','Rate', 'Units/Hour', 'No.Of Days',\n",
    "                     'Units/Day', 'Rate/Day', 'Utility Amount']].sort_values(by=['Utility', 'Line'])"
   ]
  },
  {
   "cell_type": "code",
   "execution_count": 64,
   "id": "68c8fdb3",
   "metadata": {},
   "outputs": [],
   "source": [
    "split_acl=split_acl[['Utility',  'Line','Rate', 'Units/Hour', 'No.Of Days',\n",
    "                     'Units/Day', 'Rate/Day', 'Utility Amount']].sort_values(by=['Utility', 'Line'])"
   ]
  },
  {
   "attachments": {},
   "cell_type": "markdown",
   "id": "1fffb873",
   "metadata": {},
   "source": [
    "Reading Accounts Table and Cost Center Table"
   ]
  },
  {
   "cell_type": "code",
   "execution_count": 65,
   "id": "64285775",
   "metadata": {},
   "outputs": [],
   "source": [
    "logfile.write(f'\\nOverhead Calculations are started at {datetime.datetime.now().strftime(\"%d/%m/%Y %H:%M:%S\")}')\n",
    "accounts_txn_data=readoraclequery(query.accounts_txn_query)\n",
    "cost_center_txn_data=readoraclequery(query.cost_center_txn_query)\n",
    "cost_pool_data=readoraclequery(query.cost_pool_query)"
   ]
  },
  {
   "attachments": {},
   "cell_type": "markdown",
   "id": "6e602333",
   "metadata": {},
   "source": [
    "Cost Center Table Data"
   ]
  },
  {
   "cell_type": "code",
   "execution_count": 66,
   "id": "a7c9449f",
   "metadata": {},
   "outputs": [],
   "source": [
    "cost_center_txn_data=cost_center_txn_data[((cost_center_txn_data['voucher_date']<= v_todate) & (cost_center_txn_data['voucher_date'] >= v_fromdate))]\n",
    "cost_center_txn_data=cost_center_txn_data[[ 'mname', 'groupcode', 'groupname', 'costcentercode', 'costcenter','amt' ]]\n",
    "cost_center_txn_data.rename(columns={'mname':'Account Name',\n",
    "                     'groupcode':'Group Code', \n",
    "                     'groupname':'Group Name', \n",
    "                     'costcentercode':'Cost Center Code',\n",
    "                     'costcenter':'Cost Center Name', \n",
    "                     'amt':'Amount'},inplace=True)\n",
    "cost_center_txn_data=cost_center_txn_data.groupby(['Account Name','Group Code','Group Name','Cost Center Code','Cost Center Name'])['Amount'].sum().reset_index()"
   ]
  },
  {
   "attachments": {},
   "cell_type": "markdown",
   "id": "5e0a4099",
   "metadata": {},
   "source": [
    "Accounts Table Data Fine Tune"
   ]
  },
  {
   "cell_type": "code",
   "execution_count": 67,
   "id": "e68dc391",
   "metadata": {},
   "outputs": [],
   "source": [
    "accounts_txn_data=accounts_txn_data[['vchno', 'vchdt', 'accountname', 'category','nativecurrency', 'subledger', \n",
    "                                     'currency', 'exchange_rate','sexchange_rate', 'dramount', 'cramount','alie',  'directoverheadexp']]\n",
    "accounts_txn_data=accounts_txn_data[(accounts_txn_data['vchdt']>=v_fromdate) & (accounts_txn_data['vchdt']<=v_todate) &((accounts_txn_data['alie']=='i') | (accounts_txn_data['alie']=='e')) ]\n",
    "accounts_txn_data=accounts_txn_data[[ 'accountname', 'dramount','cramount', 'alie', 'directoverheadexp']]\n",
    "accounts_txn_data['Amount']=accounts_txn_data['dramount']-accounts_txn_data['cramount']\n",
    "accounts_txn_data.rename(columns={'accountname':'Account Name','dramount':'Debit Amount','cramount':'Credit Amount', \n",
    "                                  'alie':'ALIE', 'directoverheadexp':'Direct Over Head Ex.'},inplace=True)\n",
    "accounts_txn_data=accounts_txn_data.groupby(['Account Name'])['Amount'].sum().reset_index()"
   ]
  },
  {
   "attachments": {},
   "cell_type": "markdown",
   "id": "e66cb8bf",
   "metadata": {},
   "source": [
    "Checking the Difference in the Accounts Data"
   ]
  },
  {
   "cell_type": "code",
   "execution_count": 68,
   "id": "e0e7da57",
   "metadata": {},
   "outputs": [],
   "source": [
    "accounts_txn_data['Type']='Accounts Table'\n",
    "cost_center_txn_data['Type']='Cost Center Table'\n",
    "cost_center_summary_data=cost_center_txn_data.groupby(['Type','Account Name']).sum().reset_index()\n",
    "accounts_txn_data=accounts_txn_data[['Type','Account Name', 'Amount']]\n",
    "\n",
    "accounts_cross_chk_pd=pd.concat([cost_center_summary_data,accounts_txn_data])\n",
    "accounts_cross_chk_pd=accounts_cross_chk_pd.pivot(index='Account Name',columns=['Type'],values='Amount').reset_index()\n",
    "accounts_cross_chk_pd['Difference']=accounts_cross_chk_pd['Accounts Table']-accounts_cross_chk_pd['Cost Center Table']\n",
    "accounts_cross_chk_pd=accounts_cross_chk_pd[accounts_cross_chk_pd['Difference']!=0]"
   ]
  },
  {
   "cell_type": "markdown",
   "id": "a53067c4",
   "metadata": {},
   "source": []
  },
  {
   "attachments": {},
   "cell_type": "markdown",
   "id": "9ecf05db",
   "metadata": {},
   "source": [
    "## 3. GENERATING FINAL COST SHEET"
   ]
  },
  {
   "cell_type": "code",
   "execution_count": 69,
   "id": "23728a36",
   "metadata": {},
   "outputs": [],
   "source": [
    "logfile.write(f'\\nFinal Calculations are started at {datetime.datetime.now().strftime(\"%d/%m/%Y %H:%M:%S\")}')\n",
    "final_cost_sheet=fg_data"
   ]
  },
  {
   "attachments": {},
   "cell_type": "markdown",
   "id": "454e0880",
   "metadata": {},
   "source": [
    "Join with BOMS"
   ]
  },
  {
   "cell_type": "code",
   "execution_count": 70,
   "id": "95f2a57d",
   "metadata": {},
   "outputs": [
    {
     "data": {
      "text/html": [
       "<div>\n",
       "<style scoped>\n",
       "    .dataframe tbody tr th:only-of-type {\n",
       "        vertical-align: middle;\n",
       "    }\n",
       "\n",
       "    .dataframe tbody tr th {\n",
       "        vertical-align: top;\n",
       "    }\n",
       "\n",
       "    .dataframe thead th {\n",
       "        text-align: right;\n",
       "    }\n",
       "</style>\n",
       "<table border=\"1\" class=\"dataframe\">\n",
       "  <thead>\n",
       "    <tr style=\"text-align: right;\">\n",
       "      <th></th>\n",
       "      <th>Item Master</th>\n",
       "      <th>Product Group</th>\n",
       "      <th>Decoration Type</th>\n",
       "      <th>Color Name</th>\n",
       "      <th>Job</th>\n",
       "      <th>Neck Finish Name</th>\n",
       "      <th>Capacity</th>\n",
       "      <th>Process</th>\n",
       "      <th>Layers/Pallet</th>\n",
       "      <th>Bottle Configuration</th>\n",
       "      <th>FG Code</th>\n",
       "      <th>FG Name</th>\n",
       "      <th>Qty/Tray</th>\n",
       "      <th>Tray/Pallet</th>\n",
       "      <th>Qty/Pallet</th>\n",
       "      <th>Weight in Grams</th>\n",
       "      <th>finpmbasicid</th>\n",
       "      <th>pmbasicid</th>\n",
       "    </tr>\n",
       "  </thead>\n",
       "  <tbody>\n",
       "    <tr>\n",
       "      <th>0</th>\n",
       "      <td>Item Master</td>\n",
       "      <td>FINISHED GOODS</td>\n",
       "      <td>Decorated</td>\n",
       "      <td>Green</td>\n",
       "      <td>MOUNTAIN DEW</td>\n",
       "      <td>MCA-1</td>\n",
       "      <td>330 ML</td>\n",
       "      <td>Blow &amp; Blow</td>\n",
       "      <td>9 Layers</td>\n",
       "      <td>A</td>\n",
       "      <td>DGDEWMCA100330B09A</td>\n",
       "      <td>MOUNTAIN DEW 330ML - ABA PRINTED</td>\n",
       "      <td>361.0</td>\n",
       "      <td>9.0</td>\n",
       "      <td>3249.0</td>\n",
       "      <td>235.0</td>\n",
       "      <td>17554000002195</td>\n",
       "      <td>17554000002200</td>\n",
       "    </tr>\n",
       "  </tbody>\n",
       "</table>\n",
       "</div>"
      ],
      "text/plain": [
       "   Item Master   Product Group Decoration Type Color Name           Job  \\\n",
       "0  Item Master  FINISHED GOODS       Decorated      Green  MOUNTAIN DEW   \n",
       "\n",
       "  Neck Finish Name Capacity      Process Layers/Pallet Bottle Configuration  \\\n",
       "0            MCA-1   330 ML  Blow & Blow      9 Layers                    A   \n",
       "\n",
       "              FG Code                           FG Name  Qty/Tray  \\\n",
       "0  DGDEWMCA100330B09A  MOUNTAIN DEW 330ML - ABA PRINTED     361.0   \n",
       "\n",
       "   Tray/Pallet  Qty/Pallet  Weight in Grams    finpmbasicid       pmbasicid  \n",
       "0          9.0      3249.0            235.0  17554000002195  17554000002200  "
      ]
     },
     "execution_count": 70,
     "metadata": {},
     "output_type": "execute_result"
    }
   ],
   "source": [
    "#Join with Coloring BOM\n",
    "final_cost_sheet.head(1)"
   ]
  },
  {
   "attachments": {},
   "cell_type": "markdown",
   "id": "9ecf05db",
   "metadata": {},
   "source": [
    "## 4. EXCEL WRITING"
   ]
  },
  {
   "cell_type": "markdown",
   "id": "0ea1e064",
   "metadata": {},
   "source": [
    "### Export the Masters"
   ]
  },
  {
   "cell_type": "markdown",
   "id": "24671609",
   "metadata": {},
   "source": [
    "#### Export Item Master"
   ]
  },
  {
   "cell_type": "code",
   "execution_count": 71,
   "id": "796632de",
   "metadata": {},
   "outputs": [],
   "source": [
    "######### EXCEL EXPORTS #############\n",
    "logfile.write(f'\\nItem Master is writing to excel at {datetime.datetime.now().strftime(\"%d/%m/%Y %H:%M:%S\")}')\n",
    "with pd.ExcelWriter(folder_name+\"/Masters.xlsx\") as writer:\n",
    "     fg_data_exp.to_excel(writer,sheet_name=\"FG Item Master\",index=False)\n",
    "     item_master_data.to_excel(writer,sheet_name=\"Item Master\",index=False)"
   ]
  },
  {
   "cell_type": "markdown",
   "id": "1e17361c",
   "metadata": {},
   "source": [
    "#### Export Rate Master"
   ]
  },
  {
   "cell_type": "code",
   "execution_count": 72,
   "id": "8c31b0d7",
   "metadata": {},
   "outputs": [],
   "source": [
    "logfile.write(f'\\nRates are writing to excel at {datetime.datetime.now().strftime(\"%d/%m/%Y %H:%M:%S\")}')\n",
    "with pd.ExcelWriter(folder_name+\"/ItemRateMaster.xlsx\") as writer:\n",
    "     fg_data.to_excel(writer,sheet_name=\"FG Item Master\",index=False)\n",
    "     item_master_data.to_excel(writer,sheet_name=\"Item Master\",index=False)\n",
    "     standard_rate_data.to_excel(writer,sheet_name=\"Standard Rates\",index=False)"
   ]
  },
  {
   "cell_type": "markdown",
   "id": "a25a1938",
   "metadata": {},
   "source": [
    "#### Export BOM"
   ]
  },
  {
   "cell_type": "code",
   "execution_count": 73,
   "id": "ec27b5c8",
   "metadata": {},
   "outputs": [],
   "source": [
    "logfile.write(f'\\nBOM are writing to excel at {datetime.datetime.now().strftime(\"%d/%m/%Y %H:%M:%S\")}')\n",
    "with pd.ExcelWriter(folder_name+\"/BOM_Sheets.xlsx\") as writer:\n",
    "    fg_rm_bom_full_data_exp.to_excel(writer,sheet_name=\"Furnace Costing\",index=False)  #Furnace BOM\n",
    "    fg_rm_bom_summary_data_exp.to_excel(writer,sheet_name=\"Furnace Summary\",index=False)\n",
    "    fg_pkg_bom_full_data_exp.to_excel(writer,sheet_name=\"Packing Costing\",index=False)\n",
    "    fg_pkg_bom_summary_data.to_excel(writer,sheet_name=\"Packing Summary\",index=False)\n",
    "    screen_full_data_exp.to_excel(writer,sheet_name=\"Screening Costing\",index=False)\n",
    "    color_full_data_exp.to_excel(writer,sheet_name=\"Coloring Costing\",index=False)\n",
    "    color_summary_data_exp.to_excel(writer,sheet_name=\"Coloring Summary\",index=False)\n",
    "    coating_full_data_exp.to_excel(writer,sheet_name=\"Coating Costing\",index=False)\n",
    "    coating_summary_data_exp.to_excel(writer,sheet_name=\"Coating Summary\",index=False)\n",
    "    bomdespatch_full_data_exp.to_excel(writer,sheet_name=\"Despatch Costing\",index=False)\n",
    "    bom_labcost_full_data_exp.to_excel(writer,sheet_name=\"Labour Costing\",index=False)"
   ]
  },
  {
   "cell_type": "markdown",
   "id": "a25a1938",
   "metadata": {},
   "source": [
    "#### Export Over Heads"
   ]
  },
  {
   "cell_type": "code",
   "execution_count": 74,
   "id": "ec27b5c8",
   "metadata": {},
   "outputs": [],
   "source": [
    "logfile.write(f'\\nOverheads are writing to excel at {datetime.datetime.now().strftime(\"%d/%m/%Y %H:%M:%S\")}')\n",
    "with pd.ExcelWriter(folder_name+\"/Overheads.xlsx\") as writer:\n",
    "    cost_pool_data.to_excel(writer,sheet_name=\"CostPoolMaster\",index=False)\n",
    "    cost_center_txn_data.to_excel(writer,sheet_name=\"CostCenterData\",index=False)\n",
    "    acl_running_days_data.to_excel(writer,sheet_name=\"Split_1 ACL Days\",index=False)\n",
    "    split_acl.to_excel(writer,sheet_name=\"Split_2 ACL Utilities\",index=False)"
   ]
  },
  {
   "cell_type": "markdown",
   "id": "a25a1938",
   "metadata": {},
   "source": [
    "#### Export Final Cost Sheet"
   ]
  },
  {
   "cell_type": "code",
   "execution_count": 75,
   "id": "3a136300",
   "metadata": {},
   "outputs": [],
   "source": [
    "logfile.write(f'\\nFinal Cost Sheet is writing to excel at {datetime.datetime.now().strftime(\"%d/%m/%Y %H:%M:%S\")}')\n",
    "with pd.ExcelWriter(folder_name+\"/Final_Cost_Sheet.xlsx\") as writer:\n",
    "    final_cost_sheet.to_excel(writer,sheet_name=\"Cost Sheet\",index=False)  #Furnace BOM"
   ]
  },
  {
   "attachments": {},
   "cell_type": "markdown",
   "id": "83d24c9a",
   "metadata": {},
   "source": [
    "#### Exception Reports"
   ]
  },
  {
   "cell_type": "code",
   "execution_count": 76,
   "id": "29fce17f",
   "metadata": {},
   "outputs": [
    {
     "name": "stdout",
     "output_type": "stream",
     "text": [
      "Costing Processing is done!!\n"
     ]
    }
   ],
   "source": [
    "logfile.write(f'\\nExceptional Reports are writing to excel at {datetime.datetime.now().strftime(\"%d/%m/%Y %H:%M:%S\")}')\n",
    "with pd.ExcelWriter(folder_name+\"/Exceptionals.xlsx\") as writer:\n",
    "    accounts_cross_chk_pd.to_excel(writer,sheet_name=\"Cost Center Differences\",index=False)  #Cost Center Differences\n",
    "\n",
    "print('Costing Processing is done!!')"
   ]
  },
  {
   "cell_type": "code",
   "execution_count": 77,
   "id": "20d2813a",
   "metadata": {},
   "outputs": [],
   "source": [
    "logfile.write(f'\\nThe Process is Completed Successfully at {datetime.datetime.now().strftime(\"%d/%m/%Y %H:%M:%S\")}')\n",
    "logfile.close()"
   ]
  },
  {
   "cell_type": "code",
   "execution_count": 78,
   "id": "68918a20",
   "metadata": {},
   "outputs": [
    {
     "name": "stdout",
     "output_type": "stream",
     "text": [
      "20\n",
      "10\n"
     ]
    }
   ],
   "source": [
    "a=10\n",
    "def resetvalue():\n",
    "    a=20\n",
    "    print(a)\n",
    "resetvalue()\n",
    "print(a)"
   ]
  }
 ],
 "metadata": {
  "kernelspec": {
   "display_name": "Python 3.10.0 64-bit",
   "language": "python",
   "name": "python3"
  },
  "language_info": {
   "codemirror_mode": {
    "name": "ipython",
    "version": 3
   },
   "file_extension": ".py",
   "mimetype": "text/x-python",
   "name": "python",
   "nbconvert_exporter": "python",
   "pygments_lexer": "ipython3",
   "version": "3.10.0"
  },
  "vscode": {
   "interpreter": {
    "hash": "26de051ba29f2982a8de78e945f0abaf191376122a1563185a90213a26c5da77"
   }
  }
 },
 "nbformat": 4,
 "nbformat_minor": 5
}
