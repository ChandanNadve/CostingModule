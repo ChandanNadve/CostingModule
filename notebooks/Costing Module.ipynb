{
 "cells": [
  {
   "cell_type": "markdown",
   "id": "df7b8feb",
   "metadata": {},
   "source": [
    "# PROJECT NAME : COSTING MODULE"
   ]
  },
  {
   "cell_type": "markdown",
   "id": "27443fb2",
   "metadata": {},
   "source": [
    "## CHAPTER 1 BOM PROCESSING"
   ]
  },
  {
   "cell_type": "markdown",
   "id": "0e7857d7",
   "metadata": {},
   "source": [
    "IMPORT THE REQUIRED MODULES"
   ]
  },
  {
   "cell_type": "code",
   "execution_count": 1,
   "id": "5296abc0",
   "metadata": {},
   "outputs": [],
   "source": [
    "import datetime\n",
    "import sqlqueries as query\n",
    "from sqlqueryreader import *\n",
    "import pandas as pd\n",
    "import os\n",
    "import warnings\n",
    "import numpy as np\n",
    "#from pandas.core.common import SettingWithCopyWarning\n",
    "\n",
    "warnings.simplefilter(action=\"ignore\")\n",
    "\n",
    "now=datetime.datetime.now()\n",
    "f_time = now.strftime(\"%Y%m%d_%H%M%S\")\n",
    "try:\n",
    "    os.mkdir('Export')\n",
    "except:\n",
    "    pass\n",
    "folder_name = \"Export/Costing_Process_\"+f_time\n",
    "pd.pandas.set_option('display.max_columns',None)\n",
    "\n",
    "os.mkdir(folder_name)\n",
    "logfile=open(folder_name+\"/ExecutionTimeLogFile.txt\",\"w+\")\n",
    "processlogfile=open(folder_name+\"/ProcessLogFile.txt\",\"w+\")"
   ]
  },
  {
   "cell_type": "markdown",
   "id": "e0e8b034",
   "metadata": {},
   "source": [
    "FUNCTION TO  READ ORACLE QUERY"
   ]
  },
  {
   "cell_type": "code",
   "execution_count": 2,
   "id": "d99a6984",
   "metadata": {},
   "outputs": [
    {
     "data": {
      "text/plain": [
       "50"
      ]
     },
     "execution_count": 2,
     "metadata": {},
     "output_type": "execute_result"
    }
   ],
   "source": [
    "starttime=datetime.datetime.now()\n",
    "logfile.write(f'The Costing Process is Started {datetime.datetime.now().strftime(\"%d/%m/%Y %H:%M:%S\")}')"
   ]
  },
  {
   "cell_type": "markdown",
   "id": "33dbaaea",
   "metadata": {},
   "source": [
    "PROCESSING COSTING MASTER TABLE IMPORT"
   ]
  },
  {
   "cell_type": "code",
   "execution_count": 3,
   "id": "85d4f7a4",
   "metadata": {},
   "outputs": [],
   "source": [
    "process_costing_data =readoraclequery(query.costing_process_query) #7 Costing Processing Master"
   ]
  },
  {
   "cell_type": "code",
   "execution_count": 4,
   "id": "0667b0bd",
   "metadata": {},
   "outputs": [],
   "source": [
    "# ASSIGN THE VARIABLE\n",
    "v_pricetype = process_costing_data.loc[0,'pricetype']\n",
    "v_efficiencytype = process_costing_data.loc[0,'efficiencytype']\n",
    "v_rawmaterialbomtype = process_costing_data.loc[0,'rawmaterialbomtype']\n",
    "v_packingbomtype = process_costing_data.loc[0,'packingbomtype']\n",
    "v_dispatchtype = process_costing_data.loc[0,'dispatchtype']\n",
    "v_colorstype = process_costing_data.loc[0,'colorstype']\n",
    "v_standardeference = process_costing_data.loc[0,'standardeference']\n",
    "v_coatingtype = process_costing_data.loc[0,'coatingtype']\n",
    "v_screeningtype = process_costing_data.loc[0,'screeningtype']\n",
    "v_fromdate = np.datetime64(process_costing_data.loc[0,'fromdate'])\n",
    "v_todate = np.datetime64(process_costing_data.loc[0,'todate'])"
   ]
  },
  {
   "cell_type": "code",
   "execution_count": 5,
   "id": "e6511d73",
   "metadata": {},
   "outputs": [
    {
     "data": {
      "text/plain": [
       "841000007159"
      ]
     },
     "execution_count": 5,
     "metadata": {},
     "output_type": "execute_result"
    }
   ],
   "source": [
    "v_rawmaterialbomtype"
   ]
  },
  {
   "cell_type": "code",
   "execution_count": 6,
   "id": "f9d2cf6a",
   "metadata": {},
   "outputs": [],
   "source": [
    "process_costing_data =readoraclequery(query.costing_process_query) #7 Costing Processing Master"
   ]
  },
  {
   "cell_type": "markdown",
   "id": "3605a641",
   "metadata": {},
   "source": [
    "MASTER TABLES PREPARATIONS"
   ]
  },
  {
   "cell_type": "code",
   "execution_count": 7,
   "id": "a1550fad",
   "metadata": {
    "scrolled": true
   },
   "outputs": [],
   "source": [
    "# Finished Goods Item Master and Item Master and UOM\n",
    "fg_data = readoraclequery(query.fg_query) #1 FG Master\n",
    "fg_data.rename(columns={'bottleconfiguration':'Bottle Configuration'},inplace=True)\n",
    "uom_data=readoraclequery(query.uom_query) #11 UOM Query\n",
    "fg_data_exp=fg_data.drop(columns=['finpmbasicid','pmbasicid'])\n",
    "currency_data=readoraclequery(query.currency_query)\n",
    "\n",
    "# Item Master\n",
    "item_master_data=readoraclequery(query.item_master_query) #8 Item Master\n",
    "item_master_data=item_master_data.merge(uom_data,left_on='primaryunit',right_on='uomid',how='inner')\n",
    "item_master_data.drop(columns=['primaryunit','uomid'],inplace=True)\n",
    "item_master_data.rename(columns={'unitcode':'Primary Unit'},inplace=True)"
   ]
  },
  {
   "cell_type": "markdown",
   "id": "ffdae5ef",
   "metadata": {},
   "source": [
    "Color Furnace and Line Master"
   ]
  },
  {
   "cell_type": "code",
   "execution_count": 8,
   "id": "556539d6",
   "metadata": {},
   "outputs": [],
   "source": [
    "color_master_data=readoraclequery(query.color_query ) #4 Color Master\n",
    "furnace_master_data=readoraclequery(query.furnace_query ) #5 Furnace Master\n",
    "line_master_data=readoraclequery(query.linemaster_query) # 26 Line Master Query "
   ]
  },
  {
   "cell_type": "markdown",
   "id": "dc9ae8d6",
   "metadata": {},
   "source": [
    "Processing , Selected Items and Reference Master"
   ]
  },
  {
   "cell_type": "code",
   "execution_count": 9,
   "id": "0739af8b",
   "metadata": {},
   "outputs": [],
   "source": [
    "reference_name_data=readoraclequery(query.reference_name_query) # 14. Reference Name Query\n",
    "selecteditem_data=readoraclequery(query.costing_process_query) # 25. Selected Items for Costing\n",
    "v_pricetype_name=reference_name_data[reference_name_data['referencenameid']==v_pricetype].reset_index()['referencename'][0]"
   ]
  },
  {
   "cell_type": "markdown",
   "id": "7808ebdd",
   "metadata": {},
   "source": [
    "Standard Efficiency"
   ]
  },
  {
   "cell_type": "code",
   "execution_count": 10,
   "id": "b962be57",
   "metadata": {},
   "outputs": [],
   "source": [
    "furnace_std_eff_data =readoraclequery(query.std_eff_query) #6 Standard Efficiency"
   ]
  },
  {
   "cell_type": "markdown",
   "id": "1bbdbe26",
   "metadata": {},
   "source": [
    "Standard Rates for BOM"
   ]
  },
  {
   "cell_type": "code",
   "execution_count": 11,
   "id": "2fc91389",
   "metadata": {},
   "outputs": [],
   "source": [
    "standard_rate_header_data=readoraclequery(query.standard_rate_header_query) #9 Standard Rate Header Data\n",
    "standard_rate_details_data=readoraclequery(query.standard_rate_details_query) #10 Standard Rate Grid Data\n",
    "\n",
    "standard_rate_data = pd.merge(standard_rate_header_data,standard_rate_details_data,on=['stdprice_hdrid'],how='inner')\n",
    "standard_rate_data.rename(columns={'itemid':'rmitemid'},inplace=True)\n",
    "\n",
    "standard_rate_data=standard_rate_data[standard_rate_data['appdate']<=v_todate]\n",
    "\n",
    "standard_rate_data_max=standard_rate_data.groupby(['rmitemid'])['appdate'].max().reset_index()\n",
    "standard_rate_data=pd.merge(standard_rate_data,standard_rate_data_max,on=('appdate','rmitemid'))\n",
    "\n",
    "stdr_uom_data=uom_data\n",
    "stdr_uom_data.rename(columns={'unitcode':'Consumption Unit'},inplace=True)"
   ]
  },
  {
   "cell_type": "markdown",
   "id": "0bc70831",
   "metadata": {},
   "source": [
    "Linking the Purchase UOM and Purchase Currency Master"
   ]
  },
  {
   "cell_type": "code",
   "execution_count": 12,
   "id": "be66bebd",
   "metadata": {},
   "outputs": [],
   "source": [
    "standard_rate_data=standard_rate_data.merge(stdr_uom_data,left_on='consumptionunit',right_on='uomid',how='inner')\n",
    "standard_rate_data=standard_rate_data.merge(currency_data,left_on='purcurrency',right_on='currencyid',how='inner')\n",
    "\n",
    "item_master_data=standard_rate_data.merge(item_master_data,left_on='rmitemid',right_on='pmbasicid',how='right')"
   ]
  },
  {
   "cell_type": "code",
   "execution_count": 13,
   "id": "8b383dd2",
   "metadata": {},
   "outputs": [],
   "source": [
    "item_master_data=item_master_data[['pmbasicid','productgroup', 'productid',  'productdesc', 'Primary Unit',  'Consumption Unit',  \n",
    "                   'perqty', 'rate','conversionfactor',  'priceinuom','exrate',  'currency',\n",
    "                     'procategcode', 'procategory']]"
   ]
  },
  {
   "cell_type": "code",
   "execution_count": 14,
   "id": "20c69c7f",
   "metadata": {},
   "outputs": [],
   "source": [
    "item_master_data.rename(columns={'productgroup':'Product Group', \n",
    "                                 'productid':'Item Code', \n",
    "                                 'productdesc':'Product Desc', \n",
    "                                 'perqty':'Per Qty', \n",
    "                                 'rate':'Rate',\n",
    "                                 'conversionfactor':'Conversion Factor',  \n",
    "                                 'priceinuom':'Price in Cons UOM',\n",
    "                                 'exrate':'Ex Rate',  \n",
    "                                 'currency':'Currency',\n",
    "                                 'procategcode':'Category Code', \n",
    "                                 'procategory':'Product Category'},inplace=True)"
   ]
  },
  {
   "cell_type": "code",
   "execution_count": 15,
   "id": "23d284df",
   "metadata": {},
   "outputs": [],
   "source": [
    "item_master_data=item_master_data=item_master_data[(item_master_data['Product Group'] != 'FINISHED GOODS') &\n",
    "                 (item_master_data['Product Group'] != 'SPARES') &\n",
    "                 (item_master_data['Product Group'] != 'FIXED ASSETS') &\n",
    "                 (item_master_data['Product Group'] != 'SERVICES') &\n",
    "                 (item_master_data['Product Group'] != 'MOULDS MAIN') &\n",
    "                 (item_master_data['Product Group'] != 'MOULDS ACCESSORIES') &\n",
    "                 (item_master_data['Product Group'] != 'WORK IN PROGRESS') &\n",
    "                 (item_master_data['Product Group'] != 'SCRAPS') &\n",
    "                 (item_master_data['Product Group'] != 'WORK IN PROGRESS FIXED ASSETS') &\n",
    "                 (item_master_data['Product Group'] != 'NON INVENTORY') ].reset_index(drop=True)"
   ]
  },
  {
   "attachments": {},
   "cell_type": "markdown",
   "id": "e39236b8",
   "metadata": {},
   "source": [
    "Actual Issue Rates"
   ]
  },
  {
   "cell_type": "code",
   "execution_count": 16,
   "id": "56291105",
   "metadata": {},
   "outputs": [],
   "source": [
    "actual_rate_data=readoraclequery(query.issue_query)\n",
    "actual_rate_data['year']=pd.to_datetime(actual_rate_data['docdt']).dt.year # Add the Year Column\n",
    "actual_rate_data=actual_rate_data[actual_rate_data['docdt']<=v_todate]\n",
    "actual_rate_data=actual_rate_data.groupby(['productid','year'])['amount','issueqty'].sum().reset_index()\n",
    "actual_rate_data['Actual Rate']=actual_rate_data['amount']/actual_rate_data['issueqty']\n",
    "actual_rate_data_max=actual_rate_data.groupby(['productid'])['year'].max().reset_index()\n",
    "actual_rate_data=actual_rate_data.merge(actual_rate_data_max,on=['productid','year'],how='inner')\n",
    "actual_rate_data.rename(columns={'year':'Consumption Year','issueqty':'Consumption Quantity','amount':'Consumption Amount'},inplace=True)\n",
    "item_master_data=actual_rate_data.merge(item_master_data,left_on='productid',right_on='pmbasicid',how='right')"
   ]
  },
  {
   "cell_type": "code",
   "execution_count": 17,
   "id": "ee6e56b5",
   "metadata": {},
   "outputs": [],
   "source": [
    "item_master_data=item_master_data[['pmbasicid','Product Group', 'Item Code', 'Product Desc',\n",
    "       'Primary Unit', 'Consumption Unit', 'Per Qty', 'Rate','Conversion Factor', 'Price in Cons UOM', 'Ex Rate', 'Currency',\n",
    "       'Category Code', 'Product Category', 'Consumption Year', 'Consumption Amount', 'Consumption Quantity', 'Actual Rate']]"
   ]
  },
  {
   "cell_type": "code",
   "execution_count": 18,
   "id": "ecbb6981",
   "metadata": {},
   "outputs": [],
   "source": [
    "if v_pricetype_name!='STANDARD COSTING':\n",
    "    item_master_data['Price in Cons UOM']= item_master_data['Actual Rate']"
   ]
  },
  {
   "attachments": {},
   "cell_type": "markdown",
   "id": "4e3c6af8",
   "metadata": {
    "tags": [
     "parameters"
    ]
   },
   "source": [
    "Efficiency Summary"
   ]
  },
  {
   "cell_type": "code",
   "execution_count": 19,
   "id": "f0071388",
   "metadata": {},
   "outputs": [],
   "source": [
    "efficiency_data=readoraclequery(query.efficiency_query)\n",
    "cy_efficiency_data_detailed=efficiency_data[(efficiency_data['docdt']<=v_todate)  & (efficiency_data['docdt']>=v_fromdate)]\n",
    "\n",
    "productwise_eff=cy_efficiency_data_detailed.groupby(['productid','productdesc'])['prbottles','packbottles','prodtonnage','packtonnage'].sum().reset_index()\n",
    "product_linewise_eff=cy_efficiency_data_detailed.groupby(['productid','productdesc','linedesc'])['prbottles','packbottles','prodtonnage','packtonnage'].sum().reset_index()\n",
    "linewise_eff=cy_efficiency_data_detailed.groupby(['linedesc'])['prbottles','packbottles','prodtonnage','packtonnage'].sum().reset_index()\n",
    "product_linewise_eff['Efficiency']=product_linewise_eff['packtonnage']/product_linewise_eff['prodtonnage']*100\n",
    "linewise_eff['Efficiency']=linewise_eff['packtonnage']/linewise_eff['prodtonnage']*100\n",
    "\n",
    "product_linewise_eff.rename(columns={'productid':'Product ID', 'productdesc':'Product Desc', 'linedesc':'Line Desc', \n",
    "                                     'prbottles':'Product Bottles', 'packbottles':'Packed Bottles',\n",
    "                                     'prodtonnage':'Production Tonnage', 'packtonnage':'Packed Tonnage'},inplace=True)\n",
    "\n",
    "linewise_eff.rename(columns={'productid':'Product ID', 'productdesc':'Product Desc', 'linedesc':'Line Desc',\n",
    "                             'prbottles':'Product Bottles', 'packbottles':'Packed Bottles',\n",
    "                             'prodtonnage':'Production Tonnage', 'packtonnage':'Packed Tonnage'},inplace=True)"
   ]
  },
  {
   "attachments": {},
   "cell_type": "markdown",
   "id": "c7c57678",
   "metadata": {},
   "source": [
    "## CHAPTER 2  PACKING COSTING"
   ]
  },
  {
   "attachments": {},
   "cell_type": "markdown",
   "id": "467a1b54",
   "metadata": {},
   "source": [
    "### CHAPTER 2.1 FURNACE COSTING"
   ]
  },
  {
   "cell_type": "code",
   "execution_count": 20,
   "id": "163f6415",
   "metadata": {},
   "outputs": [
    {
     "data": {
      "text/plain": [
       "43"
      ]
     },
     "execution_count": 20,
     "metadata": {},
     "output_type": "execute_result"
    }
   ],
   "source": [
    "logfile.write(f'\\nFurnace BOM started at {datetime.datetime.now().strftime(\"%d/%m/%Y %H:%M:%S\")}')"
   ]
  },
  {
   "attachments": {},
   "cell_type": "markdown",
   "id": "85273bb5",
   "metadata": {},
   "source": [
    "Reading the Furnance Header and Grid Data and Merging"
   ]
  },
  {
   "cell_type": "code",
   "execution_count": 21,
   "id": "9ed637dd",
   "metadata": {},
   "outputs": [],
   "source": [
    "fg_rm_bom_header_data = readoraclequery(query.rmbom_header_query) #2 RM Bill Of Material Header\n",
    "fg_rm_bom_details_data = readoraclequery(query.rmbom_detail_query) #3 RM Bill Of Material Detail"
   ]
  },
  {
   "attachments": {},
   "cell_type": "markdown",
   "id": "5f8c0f60",
   "metadata": {},
   "source": [
    "Take the Latest RM BOM"
   ]
  },
  {
   "cell_type": "code",
   "execution_count": 22,
   "id": "d1a9e874",
   "metadata": {},
   "outputs": [],
   "source": [
    "fg_rm_bom_header_data=fg_rm_bom_header_data[fg_rm_bom_header_data['name']==v_rawmaterialbomtype]\n",
    "fg_rm_bom_header_data_temp=fg_rm_bom_header_data.groupby(['color','furnance'])['appdate'].max().reset_index()\n",
    "fg_rm_bom_header_data=pd.merge(fg_rm_bom_header_data,fg_rm_bom_header_data_temp,on=['color','furnance','appdate'],how='inner')\n",
    "fg_rm_bom_full_data = pd.merge(fg_rm_bom_header_data,fg_rm_bom_details_data,on=['rmbomhdrid'],how='inner')"
   ]
  },
  {
   "attachments": {},
   "cell_type": "markdown",
   "id": "20c3ae1d",
   "metadata": {},
   "source": [
    "Join With RM BOM Data Grid"
   ]
  },
  {
   "cell_type": "code",
   "execution_count": 23,
   "id": "83e2708c",
   "metadata": {},
   "outputs": [],
   "source": [
    "fg_rm_bom_full_data=fg_rm_bom_full_data[['color', 'furnance',  'rmitemname', 'rmitemcode', \n",
    "                                         'qtyperbatch', 'evloss', 'glassdraw', 'rmefficiency', 'rmnetpacked','culletqty']]"
   ]
  },
  {
   "attachments": {},
   "cell_type": "markdown",
   "id": "0a36ed0a",
   "metadata": {},
   "source": [
    "Rename the Columns for Joining with color and furnace master and Join(Merge)"
   ]
  },
  {
   "cell_type": "code",
   "execution_count": 24,
   "id": "4c342c2b",
   "metadata": {},
   "outputs": [],
   "source": [
    "fg_rm_bom_full_data.rename(columns={'color':'colormasterid','furnance':'psysfurnaceid'},inplace=True)\n",
    "fg_rm_bom_full_data=pd.merge(fg_rm_bom_full_data,color_master_data,on=['colormasterid'],how='inner')\n",
    "fg_rm_bom_full_data=pd.merge(fg_rm_bom_full_data,furnace_master_data,on=['psysfurnaceid'],how='inner')\n",
    "\n",
    "furnace_std_eff_data_temp=furnace_std_eff_data.groupby(['color','furnance'])['docdate'].max().reset_index()\n",
    "furnace_std_eff_data=pd.merge(furnace_std_eff_data,furnace_std_eff_data_temp,on=['color','furnance','docdate'],how='inner')\n",
    "\n",
    "furnace_std_eff_data.rename(columns={'color':'colormasterid','furnance':'psysfurnaceid'},inplace=True)\n",
    "fg_rm_bom_full_data= pd.merge(fg_rm_bom_full_data,furnace_std_eff_data,on=['psysfurnaceid','colormasterid'],how='inner')"
   ]
  },
  {
   "attachments": {},
   "cell_type": "markdown",
   "id": "852be401",
   "metadata": {},
   "source": [
    "Raw Material Data Joining with Item Master"
   ]
  },
  {
   "cell_type": "code",
   "execution_count": 25,
   "id": "32003120",
   "metadata": {},
   "outputs": [],
   "source": [
    "rm_item_data=item_master_data[item_master_data['Product Group']=='RAW MATERIALS'].reset_index()\n",
    "rm_item_data[(rm_item_data['Primary Unit']=='MT') & (rm_item_data['Conversion Factor'].isna())]['Conversion Factor']=1000\n",
    "rm_item_data['Consumption Unit']=rm_item_data[rm_item_data['Product Group']=='RAW MATERIALS']['Consumption Unit'].fillna('KGS')\n",
    "#For all the Raw Materials where ever the Purchase UOM is in \n",
    "rm_item_data['Price in Cons UOM']=rm_item_data[rm_item_data['Product Group']=='RAW MATERIALS']['Price in Cons UOM']/rm_item_data[rm_item_data['Product Group']=='RAW MATERIALS']['Conversion Factor']\n",
    "\n",
    "fg_rm_bom_full_data=pd.merge(fg_rm_bom_full_data,rm_item_data,left_on='rmitemname' ,right_on='pmbasicid',how='inner')\n",
    "\n",
    "fg_rm_bom_full_data['Amt/Batch']=fg_rm_bom_full_data['Price in Cons UOM']*fg_rm_bom_full_data['qtyperbatch']\n",
    "   \n",
    "fg_rm_bom_full_data_exp=fg_rm_bom_full_data[['furnacename','colorname', 'Item Code','Product Desc','Consumption Unit','Price in Cons UOM','qtyperbatch',\n",
    "                                             'Amt/Batch','evloss','glassdraw','efficiency','culletqty']]\n",
    "\n",
    "fg_rm_bom_full_data_exp[\"Net Packed\"]=fg_rm_bom_full_data_exp[\"efficiency\"]*fg_rm_bom_full_data_exp[\"glassdraw\"]/100\n"
   ]
  },
  {
   "cell_type": "code",
   "execution_count": 26,
   "id": "dc1232a8",
   "metadata": {},
   "outputs": [],
   "source": [
    "fg_rm_bom_full_data_exp=fg_rm_bom_full_data_exp.sort_values(by=['furnacename','colorname'],ascending=True)\n",
    "fg_rm_bom_full_data_exp.rename(columns={'furnacename':'Furnace',\n",
    "                                        'colorname':'Color',\n",
    "                                        'productid':'Product ID',\n",
    "                                        'productdesc':'Product Name',\n",
    "                                        'priceinuom':'Rate in Cons.UOM',\n",
    "                                        'unitcode':'Cons. Unit',\n",
    "                                        'qtyperbatch':'Qty/Batch',\n",
    "                                        'evloss':'Evoperation Loss',\n",
    "                                        'glassdraw':'Glass Draw',\n",
    "                                        'efficiency':'Efficiency',\n",
    "                                       'culletqty':'Cullet Quantity'},inplace=True)"
   ]
  },
  {
   "cell_type": "code",
   "execution_count": 27,
   "id": "8e76b4e2",
   "metadata": {},
   "outputs": [],
   "source": [
    "rm_culletrate=fg_rm_bom_full_data_exp.groupby(['Furnace','Color']).agg({'Amt/Batch':'sum','Glass Draw':'sum'}).reset_index()\n",
    "rm_culletrate[\"Cullet Rate\"]=rm_culletrate[\"Amt/Batch\"]/rm_culletrate[\"Glass Draw\"]\n",
    "rm_culletrate.drop(columns=['Amt/Batch','Glass Draw'],inplace=True)\n",
    "\n",
    "fg_rm_bom_full_data_exp=pd.merge(fg_rm_bom_full_data_exp,rm_culletrate,on=['Furnace','Color'],how='inner')\n",
    "fg_rm_bom_full_data_exp[\"Cullet Amount\"]=fg_rm_bom_full_data_exp['Cullet Quantity']*fg_rm_bom_full_data_exp[\"Cullet Rate\"]\n",
    "fg_rm_bom_full_data_exp[\"Amount Net\"]=fg_rm_bom_full_data_exp['Amt/Batch']-fg_rm_bom_full_data_exp[\"Cullet Amount\"]\n",
    "\n",
    "fg_rm_bom_summary_data_exp=fg_rm_bom_full_data_exp.groupby(['Furnace','Color','Evoperation Loss', 'Efficiency'])['Qty/Batch', 'Amt/Batch', 'Glass Draw',\n",
    "                                                                                                                 'Cullet Quantity','Net Packed', 'Cullet Rate',\n",
    "                                                                                                                 'Cullet Amount', 'Amount Net'].sum().reset_index()"
   ]
  },
  {
   "attachments": {},
   "cell_type": "markdown",
   "id": "c7c57678",
   "metadata": {},
   "source": [
    "### CHAPTER 2.2 PACKING COSTING"
   ]
  },
  {
   "cell_type": "code",
   "execution_count": 28,
   "id": "2db33a0a",
   "metadata": {},
   "outputs": [
    {
     "data": {
      "text/plain": [
       "43"
      ]
     },
     "execution_count": 28,
     "metadata": {},
     "output_type": "execute_result"
    }
   ],
   "source": [
    "logfile.write(f'\\nPacking BOM started at {datetime.datetime.now().strftime(\"%d/%m/%Y %H:%M:%S\")}')"
   ]
  },
  {
   "cell_type": "markdown",
   "id": "6ca9d61e",
   "metadata": {},
   "source": [
    "Fetching Header Data and Taking the latest Packing Cost BOM"
   ]
  },
  {
   "cell_type": "code",
   "execution_count": 29,
   "id": "29201556",
   "metadata": {},
   "outputs": [],
   "source": [
    "# Reading the Packing BOM Header and Details Tables\n",
    "pkg_bom_header_data=readoraclequery(query.pkg_bom_header_query) # 12. BOM Packing Header Query\n",
    "pkg_bom_detail_data=readoraclequery(query.pkg_bom_detail_query) # 13. BOM Packing Detail Query"
   ]
  },
  {
   "cell_type": "code",
   "execution_count": 30,
   "id": "3dd30fbe",
   "metadata": {},
   "outputs": [],
   "source": [
    "# Taking the latest Packing BOM\n",
    "pkg_bom_header_data_max=pkg_bom_header_data.groupby(['fgitemcode']).agg({'appdate':'max'}).reset_index()\n",
    "tray_master_data=readoraclequery(query.tray_master_query)\n",
    "packing_bom_code_data=readoraclequery(query.packing_bom_code_query)\n",
    "pkg_bom_header_data=pkg_bom_header_data.fillna(0)\n",
    "\n",
    "fg_pkg_bom_full_data=pd.merge(pkg_bom_header_data,pkg_bom_header_data_max,on='fgitemcode',how='inner')\n",
    "fg_pkg_bom_full_data_exp=pd.merge(pkg_bom_header_data,pkg_bom_detail_data,on=['bompackmaterialhrdid'],how='inner')\n",
    "fg_pkg_bom_full_data_exp.drop(columns=['bompackmaterialhrdid','appdate','name','bompackmaterialdtlid'],inplace=True)"
   ]
  },
  {
   "cell_type": "code",
   "execution_count": 31,
   "id": "6b3f6844",
   "metadata": {},
   "outputs": [],
   "source": [
    "# Joined with Finshed Goods and Packing Material Code\n",
    "fg_data_pkg=fg_data[[\"finpmbasicid\",\"Product Group\",\"FG Code\",\"FG Name\",\"Qty/Tray\",\"Tray/Pallet\",\"Qty/Pallet\"]]\n",
    "fg_data_pkg.rename(columns={\"Product Group\":\"FG Product Group\"},inplace=True)\n",
    "\n",
    "rm_data_pkg=item_master_data[['pmbasicid', 'Product Group', 'Item Code', \n",
    "       'Product Desc', 'Primary Unit', 'Consumption Unit', 'Per Qty', 'Rate',\n",
    "       'Conversion Factor', 'Price in Cons UOM', 'Ex Rate', 'Currency',\n",
    "       'Category Code', 'Product Category']]\n",
    "fg_pkg_bom_full_data_exp=pd.merge(fg_pkg_bom_full_data_exp,fg_data_pkg,left_on=[\"fgitemcode\"],right_on=[\"finpmbasicid\"],how=\"inner\")\n",
    "fg_pkg_bom_full_data_exp=pd.merge(fg_pkg_bom_full_data_exp,rm_data_pkg,left_on=[\"matcode\"],right_on=[\"pmbasicid\"],how=\"inner\")\n",
    "\n",
    "fg_pkg_bom_full_data_exp=pd.merge(fg_pkg_bom_full_data_exp,packing_bom_code_data,left_on=[\"packingtype\"],right_on=[\"csysbommasterid\"],how=\"inner\")\n",
    "fg_pkg_bom_full_data_exp=pd.merge(fg_pkg_bom_full_data_exp,tray_master_data,left_on=[\"traycode\"],right_on=[\"psystraymasterid\"],how=\"inner\")"
   ]
  },
  {
   "cell_type": "code",
   "execution_count": 32,
   "id": "9ed07302",
   "metadata": {
    "scrolled": true
   },
   "outputs": [],
   "source": [
    "#fg_pkg_bom_full_data_exp=fg_pkg_bom_full_data_exp.fillna(0)\n",
    "fg_pkg_bom_full_data_exp=fg_pkg_bom_full_data_exp[[ 'FG Code', 'FG Name','bom_code', 'bom_name','tray_code', 'tray_name',\n",
    "       'Qty/Tray','FG Product Group',\n",
    "       'bottbox', 'boxlayer', 'boxpallet', 'boxcount','bottlespercontainer','Qty/Tray',\n",
    "       'Tray/Pallet', 'Qty/Pallet', 'Product Group',\n",
    "       'Item Code',  'Product Desc', 'Primary Unit', 'Consumption Unit',\n",
    "       'qtyco', 'qtycon','Rate']]\n",
    "\n",
    "fg_pkg_bom_full_data_exp.rename(columns={'bom_code':'BOM Code','bom_name':'BOM Name','tray_code':'Tray Code',\n",
    "                                         'tray_name':'Tray Name','bottbox':'Bottles/Box','boxlayer':'Box/Layer',\n",
    "                                         'boxpallet':'Box/Pallet','boxcount':'Box/Count','qtyco':'Qty',\n",
    "                                         'qtycon':'Qty/Container','bottlespercontainer':\"Bottles/Container\"},inplace=True)\n",
    "\n",
    "fg_pkg_bom_full_data_exp['PalletAmount']=(fg_pkg_bom_full_data_exp['Qty']*fg_pkg_bom_full_data_exp['Rate']/fg_pkg_bom_full_data_exp['Qty/Pallet'] )\n",
    "fg_pkg_bom_full_data_exp['ContainerAmount']=fg_pkg_bom_full_data_exp['Qty/Container']*fg_pkg_bom_full_data_exp['Rate']/fg_pkg_bom_full_data_exp['Bottles/Container']\n",
    "fg_pkg_bom_full_data_exp['PalletAmount']=fg_pkg_bom_full_data_exp['PalletAmount'].fillna(0)\n",
    "fg_pkg_bom_full_data_exp['ContainerAmount']=fg_pkg_bom_full_data_exp['ContainerAmount'].fillna(0)\n",
    "fg_pkg_bom_full_data_exp['Amount']=fg_pkg_bom_full_data_exp['PalletAmount']+fg_pkg_bom_full_data_exp['ContainerAmount']"
   ]
  },
  {
   "attachments": {},
   "cell_type": "markdown",
   "id": "9978346e",
   "metadata": {},
   "source": [
    "Exceptions the Materials which are all not having Consumption UOM"
   ]
  },
  {
   "attachments": {},
   "cell_type": "markdown",
   "id": "2793956f",
   "metadata": {},
   "source": [
    "### PACKING SUMMARY COSTING"
   ]
  },
  {
   "cell_type": "code",
   "execution_count": 33,
   "id": "ac60072b",
   "metadata": {},
   "outputs": [],
   "source": [
    "fg_pkg_bom_summary_data=fg_pkg_bom_full_data_exp.groupby(['FG Code','FG Name'])['Amount'].sum().reset_index()"
   ]
  },
  {
   "cell_type": "markdown",
   "id": "1dc2aa2c",
   "metadata": {},
   "source": [
    "### COLOR SCREENING COSTING"
   ]
  },
  {
   "cell_type": "code",
   "execution_count": 34,
   "id": "21c03f78",
   "metadata": {},
   "outputs": [],
   "source": [
    "logfile.write(f'\\nColor Screening BOM started at {datetime.datetime.now().strftime(\"%d/%m/%Y %H:%M:%S\")}')\n",
    "screenhdr_data=readoraclequery(query.screenhdr_query) # 23.BOM Colors Screening Header Query\n",
    "screendtl_data=readoraclequery(query.screendtl_query) # 24.BOM Colors Screening Detail Query\n",
    "\n",
    "screendtl_data=screendtl_data[['bomcolorshdr_scrid',  'matcode', 'qtyco']]\n",
    "\n",
    "screenhdr_data=screenhdr_data[screenhdr_data['name']==v_screeningtype]\n",
    "\n",
    "screenhdr_data=screenhdr_data[screenhdr_data['appdate']<=v_todate]\n",
    "screenhdr_data=screenhdr_data[['bomcolorshdr_scrid',  'fgitemcode']]\n",
    "\n",
    "screen_full_data=pd.merge(screenhdr_data,screendtl_data,on=['bomcolorshdr_scrid'],how='inner')\n",
    "screen_full_data_exp=screen_full_data\n",
    "\n",
    "fg_data_clrscreen=item_master_data[['pmbasicid', 'Product Group', 'Item Code',\n",
    "       'Product Desc', 'Primary Unit', 'Consumption Unit', 'Per Qty', 'Rate',\n",
    "       'Conversion Factor', 'Price in Cons UOM', 'Ex Rate', 'Currency',\n",
    "       'Category Code', 'Product Category']]\n",
    "screen_full_data_exp=pd.merge(screen_full_data_exp,fg_data_clrscreen,left_on='matcode',right_on='pmbasicid',how='inner')\n",
    "\n",
    "screen_full_data_exp=screen_full_data_exp[['Item Code','Product Desc',\n",
    "                                           'Primary Unit', 'Consumption Unit','Per Qty', \n",
    "                                           'Rate', 'Conversion Factor', 'Price in Cons UOM', 'Ex Rate',\n",
    "                                           'Category Code', 'Product Category','qtyco']]\n",
    "screen_full_data_exp['Cost/Screen']=screen_full_data_exp['Price in Cons UOM']/screen_full_data_exp['qtyco']\n",
    "screen_full_data_exp.rename(columns={'qtyco':'No.Of Screens'},inplace=True)\n"
   ]
  },
  {
   "attachments": {},
   "cell_type": "markdown",
   "id": "a2d45d42",
   "metadata": {},
   "source": [
    "Calculate the Total Screen Cost and Save in the Item Master"
   ]
  },
  {
   "cell_type": "code",
   "execution_count": 35,
   "id": "2a33e244",
   "metadata": {},
   "outputs": [],
   "source": [
    "\n",
    "v_screencost=screen_full_data_exp['Cost/Screen'].sum()\n",
    "item_master_data.loc[item_master_data['Item Code']=='COLSCREE0001', 'Price in Cons UOM'] = v_screencost"
   ]
  },
  {
   "cell_type": "markdown",
   "id": "1a56ee76",
   "metadata": {},
   "source": [
    "### COLOR COSTING"
   ]
  },
  {
   "attachments": {},
   "cell_type": "markdown",
   "id": "bb2b7af6",
   "metadata": {},
   "source": [
    "Reading data from Header Data"
   ]
  },
  {
   "cell_type": "code",
   "execution_count": 36,
   "id": "45a49c57",
   "metadata": {},
   "outputs": [
    {
     "data": {
      "text/plain": [
       "41"
      ]
     },
     "execution_count": 36,
     "metadata": {},
     "output_type": "execute_result"
    }
   ],
   "source": [
    "logfile.write(f'\\nColor BOM started at {datetime.datetime.now().strftime(\"%d/%m/%Y %H:%M:%S\")}')"
   ]
  },
  {
   "cell_type": "code",
   "execution_count": 37,
   "id": "9e2bfe47",
   "metadata": {},
   "outputs": [],
   "source": [
    "bomcolorshdr_data=readoraclequery(query.bomcolorshdr_query) # 21.BOM Colors Header Query\n",
    "bomcolorshdr_data=bomcolorshdr_data[bomcolorshdr_data['name']==v_colorstype]  #Consider the type of Costing\n",
    "bomcolorshdr_data=bomcolorshdr_data[bomcolorshdr_data['appdate']<=v_todate]  #Consider he record which are all before todate\n",
    "bomcolorshdr_data_max=bomcolorshdr_data.groupby('fgitemcode')['docdt'].max().reset_index()\n",
    "bomcolorshdr_data=pd.merge(bomcolorshdr_data,bomcolorshdr_data_max,on=['fgitemcode','docdt'],how='inner')\n",
    "bomcolorshdr_data=bomcolorshdr_data[['bomcolorshdrid', 'fgitemcode','stdbottqty']]"
   ]
  },
  {
   "cell_type": "code",
   "execution_count": 38,
   "id": "70e7d59a",
   "metadata": {},
   "outputs": [],
   "source": [
    "bomcolorsdtl_data=readoraclequery(query.bomcolorsdtl_query) # 22.BOM Colors Detail Query\n",
    "bomcolorsdtl_data=bomcolorsdtl_data[['bomcolorshdrid', 'matcode','qtyco']]\n",
    "\n",
    "color_full_data=pd.merge(bomcolorshdr_data,bomcolorsdtl_data,on=['bomcolorshdrid'],how='inner')\n",
    "color_full_data_exp=color_full_data"
   ]
  },
  {
   "cell_type": "code",
   "execution_count": 39,
   "id": "b002cd83",
   "metadata": {},
   "outputs": [],
   "source": [
    "fg_data_clr=fg_data[[\"finpmbasicid\",\"FG Code\",\"FG Name\",\"Qty/Tray\",\"Tray/Pallet\",\"Qty/Pallet\",\"Qty/Pallet\"]]\n",
    "rm_data_clr=item_master_data[['pmbasicid', 'Product Group', 'Item Code', 'Product Desc', 'Primary Unit','Consumption Unit','Price in Cons UOM']]\n",
    "color_full_data_exp=pd.merge(color_full_data_exp,fg_data_clr,left_on=[\"fgitemcode\"],right_on=[\"finpmbasicid\"],how=\"inner\")\n",
    "color_full_data_exp=pd.merge(color_full_data_exp,rm_data_clr,left_on=[\"matcode\"],right_on=[\"pmbasicid\"],how=\"inner\")\n"
   ]
  },
  {
   "cell_type": "code",
   "execution_count": 40,
   "id": "98a241e6",
   "metadata": {},
   "outputs": [],
   "source": [
    "color_full_data_exp=color_full_data_exp[['FG Code', 'FG Name','Item Code', 'Product Desc', 'Primary Unit','Consumption Unit','qtyco', 'Price in Cons UOM','stdbottqty']]\n",
    "color_full_data_exp.rename(columns={'qtyco':'Quantity','stdbottqty':'Per Bottles'},inplace=True)\n",
    "color_full_data_exp['Amount']=color_full_data_exp['Quantity']*color_full_data_exp['Price in Cons UOM']\n",
    "\n",
    "color_full_data_exp['Rate/Bottle']=color_full_data_exp['Amount']/color_full_data_exp['Per Bottles']\n",
    "color_summary_data_exp=color_full_data_exp.groupby(['FG Code', 'FG Name'])['Rate/Bottle'].sum().reset_index()"
   ]
  },
  {
   "cell_type": "markdown",
   "id": "ac0b6e56",
   "metadata": {},
   "source": [
    "### COATING BOM"
   ]
  },
  {
   "cell_type": "code",
   "execution_count": 41,
   "id": "d122cdf5",
   "metadata": {},
   "outputs": [],
   "source": [
    "logfile.write(f'\\nCoating BOM started at {datetime.datetime.now().strftime(\"%d/%m/%Y %H:%M:%S\")}')\n",
    "try:\n",
    "    bomcoatinghdr_data=readoraclequery(query.bomcoatinghdr_query) # 19.BOM Coating Header Query\n",
    "    bomcoatinghdr_data=bomcoatinghdr_data[['bomcoatinghdrid','appdate', 'name', 'line','linespeed']] # Removed Unwanted Columns in header table\n",
    "    bomcoatinghdr_data=bomcoatinghdr_data[bomcoatinghdr_data['appdate']<=v_todate]  # Take the coating dat which is applicable is less than todat\n",
    "    bomcoatinghdr_data=bomcoatinghdr_data[bomcoatinghdr_data['name']==(v_coatingtype)] # Take the selecledt Coating Type\n",
    "    bomcoatinghdr_data=bomcoatinghdr_data[['bomcoatinghdrid','line','linespeed']]\n",
    "    bomcoatingdtl_data=readoraclequery(query.bomcoatingdtl_query) # 20. BOM Coating Detail Query\n",
    "    bomcoatingdtl_data=bomcoatingdtl_data[['bomcoatinghdrid', 'coatingitemname','coatingitemcode',  'coatqty']]\n",
    "\n",
    "    coating_full_data=pd.merge(bomcoatinghdr_data,bomcoatingdtl_data,on=['bomcoatinghdrid'],how='inner')\n",
    "    coating_full_data_exp=coating_full_data[[ 'line','linespeed', 'coatingitemname', 'coatingitemcode', 'coatqty']]\n",
    "    rm_data_coat=item_master_data[['pmbasicid', 'Product Group', 'Item Code', 'Product Desc', 'Primary Unit',\n",
    "                                    'Per Qty', 'Rate','Price in Cons UOM','Currency','Category Code', 'Product Category','Consumption Unit']]\n",
    "\n",
    "    coating_full_data_exp=pd.merge(coating_full_data_exp,rm_data_coat,left_on='coatingitemname',right_on='pmbasicid',how='inner')\n",
    "    coating_full_data_exp=pd.merge(coating_full_data_exp,line_master_data,left_on=[\"line\"],right_on=[\"psyslinemasterid\"],how=\"inner\")\n",
    "\n",
    "    coating_full_data_exp.rename(columns={'lineid':'Line ID', 'linedesc':'Line Desc','linespeed':'Line Speed'},inplace=True)\n",
    "\n",
    "    coating_full_data_exp=coating_full_data_exp[['Product Group','Item Code','Product Desc', 'Primary Unit','Line ID', 'Line Desc','Line Speed', 'coatqty','Price in Cons UOM']]\n",
    "    coating_full_data_exp.rename(columns={'coatqty':'Quantity Cons'},inplace=True)\n",
    "    coating_full_data_exp['Bottles/Day']=coating_full_data_exp['Line Speed']*24*60\n",
    "\n",
    "    coating_full_data_exp['Cost/Day']=coating_full_data_exp['Quantity Cons']*coating_full_data_exp['Price in Cons UOM']\n",
    "\n",
    "    coating_full_data_exp['Cost/Bottle']=coating_full_data_exp['Cost/Day']/coating_full_data_exp['Bottles/Day']\n",
    "    coating_summary_data_exp=coating_full_data_exp.groupby(['Line Desc'])['Cost/Bottle'].sum().reset_index()\n",
    "except Exception as e:\n",
    "    logfile.write(f'\\nCoating BOM occured Error {e} at {datetime.datetime.now().strftime(\"%d/%m/%Y %H:%M:%S\")}')\n",
    "    print(f'\\nCoating BOM occured Error {e} at {datetime.datetime.now().strftime(\"%d/%m/%Y %H:%M:%S\")}')"
   ]
  },
  {
   "cell_type": "markdown",
   "id": "c3c1bd7f",
   "metadata": {},
   "source": [
    "### DISPATCH BOM"
   ]
  },
  {
   "cell_type": "code",
   "execution_count": 42,
   "id": "c429b131",
   "metadata": {},
   "outputs": [],
   "source": [
    "logfile.write(f'\\nDispatch BOM started at {datetime.datetime.now().strftime(\"%d/%m/%Y %H:%M:%S\")}')\n",
    "bomdespatchhdr_data=readoraclequery(query.bomdespatchhdr_query) # 19. BOM Dispatch Header Query\n",
    "bomdespatchhdr_data=bomdespatchhdr_data[bomdespatchhdr_data['name']==v_dispatchtype]\n",
    "bomdespatchhdr_data=bomdespatchhdr_data[bomdespatchhdr_data['appdate']<=v_todate]\n",
    "bomdespatchhdr_data[bomdespatchhdr_data['appdate']==np.datetime64(bomdespatchhdr_data['appdate'].max())]\n",
    "bomdespatchhdr_data=bomdespatchhdr_data[['bomdespatchhdrid','despatch']]\n",
    "\n",
    "bomdespatchdtl_data=readoraclequery(query.bomdespatchdtl_query) # 20. BOM Dispatch Detail Query\n",
    "bomdespatch_full_data=pd.merge(bomdespatchhdr_data,bomdespatchdtl_data,on=['bomdespatchhdrid'],how='inner')\n",
    "bomdespatch_full_data_exp=bomdespatch_full_data\n",
    "\n",
    "despatchcode_data=readoraclequery(query.despatchcode_query)\n",
    "despatchcode_data.rename(columns={'desp_code':'Despatch Code','desp_name':'Despatch Name','desp_details':'Despatch Details'},inplace=True)\n",
    "bomdespatch_full_data_exp=pd.merge(bomdespatch_full_data_exp,despatchcode_data,left_on='despatch',right_on='csystdespatchid',how='inner')\n",
    "\n",
    "rm_data_des=item_master_data[['pmbasicid', 'Product Group', 'Item Code', 'Product Desc', 'Primary Unit','Consumption Unit','Price in Cons UOM']]\n",
    "bomdespatch_full_data_exp=pd.merge(bomdespatch_full_data_exp,rm_data_pkg,left_on=[\"itemname\"],right_on=[\"pmbasicid\"],how=\"inner\")\n",
    "\n",
    "bomdespatch_full_data_exp=bomdespatch_full_data_exp[['Despatch Code','Item Code', 'Product Desc', 'Primary Unit', 'qty','Price in Cons UOM','Despatch Name']]\n",
    "\n",
    "bomdespatch_full_data_exp['Amount']=bomdespatch_full_data_exp['qty']*bomdespatch_full_data_exp['Price in Cons UOM']\n",
    "bomdespatch_full_data_exp.rename(columns={'qty':'Quantity'},inplace='True')"
   ]
  },
  {
   "cell_type": "markdown",
   "id": "fb025e11",
   "metadata": {},
   "source": [
    "### LABORS BOM"
   ]
  },
  {
   "cell_type": "markdown",
   "id": "1867e81e",
   "metadata": {},
   "source": [
    "PART A - LABOR COST CALCULATION"
   ]
  },
  {
   "cell_type": "code",
   "execution_count": 43,
   "id": "a257eb37",
   "metadata": {},
   "outputs": [],
   "source": [
    "logfile.write(f'\\nLabour BOM started at {datetime.datetime.now().strftime(\"%d/%m/%Y %H:%M:%S\")}')\n",
    "bom_labcost_hdr_data=readoraclequery(query.bom_labcost_hdr_query) # 15. BOM Cost for Labors Header Query\n",
    "bom_labcost_dtl_data=readoraclequery(query.bom_labcost_dtl_query) # 16. BOM Cost for Labors detail Query\n",
    "bom_labcost_hdr_data=bom_labcost_hdr_data[['bom_labcost_hdrid', 'docid', 'docdt','name' ,'appdate']]"
   ]
  },
  {
   "cell_type": "code",
   "execution_count": 44,
   "id": "0b666813",
   "metadata": {},
   "outputs": [],
   "source": [
    "logfile.write(f'\\nLabour BOM started at {datetime.datetime.now().strftime(\"%d/%m/%Y %H:%M:%S\")}')\n",
    "bom_labcost_hdr_data=readoraclequery(query.bom_labcost_hdr_query) # 15. BOM Cost for Labors Header Query\n",
    "bom_labcost_dtl_data=readoraclequery(query.bom_labcost_dtl_query) # 16. BOM Cost for Labors detail Query\n",
    "bom_labcost_hdr_data=bom_labcost_hdr_data[['bom_labcost_hdrid', 'docid', 'docdt','name' ,'appdate']]\n",
    "\n",
    "bom_labcost_hdr_data=bom_labcost_hdr_data[bom_labcost_hdr_data['appdate']<= v_todate]\n",
    "bom_labcost_hdr_data[bom_labcost_hdr_data['appdate']==np.datetime64(bom_labcost_hdr_data['appdate'].max())]\n",
    "bom_labcost_full_data=pd.merge(bom_labcost_hdr_data,bom_labcost_dtl_data,on=['bom_labcost_hdrid'],how='inner')\n",
    "bom_labcost_full_data_exp=bom_labcost_full_data"
   ]
  },
  {
   "cell_type": "code",
   "execution_count": 45,
   "id": "91dbd99f",
   "metadata": {},
   "outputs": [],
   "source": [
    "bom_labcost_full_data_exp=bom_labcost_full_data_exp[['laborcategory', 'rate']]\n",
    "bom_labcost_full_data_exp.rename(columns={'laborcategory':'csyslaborcategoryid', 'rate':'Rate'},inplace=True)\n",
    "laborcode_master=readoraclequery(query.labourcode_query)"
   ]
  },
  {
   "cell_type": "code",
   "execution_count": 46,
   "id": "3db0ac52",
   "metadata": {},
   "outputs": [],
   "source": [
    "bom_labcost_full_data_exp=pd.merge(bom_labcost_full_data_exp,laborcode_master,on='csyslaborcategoryid',how='inner')"
   ]
  },
  {
   "cell_type": "code",
   "execution_count": 47,
   "id": "d4e29f47",
   "metadata": {},
   "outputs": [],
   "source": [
    "bom_labcost_full_data_exp=bom_labcost_full_data_exp[['categorycode', 'laborcategory', 'Rate']]\n",
    "bom_labcost_full_data_exp.rename(columns={'categorycode':'Category Code', 'laborcategory':'Category Name'},inplace=True)"
   ]
  },
  {
   "attachments": {},
   "cell_type": "markdown",
   "id": "ed4b70c8",
   "metadata": {},
   "source": [
    "PART B - LABOR BOM CALCULATION"
   ]
  },
  {
   "cell_type": "code",
   "execution_count": 48,
   "id": "d1752e2d",
   "metadata": {},
   "outputs": [],
   "source": [
    "# Reading the Packing BOM Header and Details Tables\n",
    "labor_bom_header_data=readoraclequery(query.pkg_bom_header_query) # 12. BOM Packing Header Query\n",
    "labor_bom_detail_data=readoraclequery(query.lab_bom_data) # 13. BOM Packing Detail Query"
   ]
  },
  {
   "cell_type": "code",
   "execution_count": 93,
   "id": "4f4042df",
   "metadata": {},
   "outputs": [],
   "source": [
    "\n",
    "# Taking the latest Packing BOM\n",
    "labor_bom_header_data_max=labor_bom_header_data.groupby(['fgitemcode']).agg({'appdate':'max'}).reset_index()\n",
    "labor_bom_header_data=labor_bom_header_data.fillna(0)\n",
    "\n",
    "labor_bom_full_data=pd.merge(labor_bom_header_data,labor_bom_detail_data,on='bompackmaterialhrdid',how='inner')\n",
    "\n",
    "\n",
    "labor_bom_full_data=pd.merge(labor_bom_full_data,labor_bom_header_data_max,on=['fgitemcode','appdate'],how='inner')\n",
    "labor_bom_full_data=labor_bom_full_data[['fgitemcode', 'packingtype','bottbox', 'boxlayer', 'boxpallet','boxcount', 'bottlespercontainer', 'laborcategory','nooflabors']]\n"
   ]
  },
  {
   "cell_type": "code",
   "execution_count": 94,
   "id": "4a80fc9e",
   "metadata": {},
   "outputs": [
    {
     "data": {
      "text/html": [
       "<div>\n",
       "<style scoped>\n",
       "    .dataframe tbody tr th:only-of-type {\n",
       "        vertical-align: middle;\n",
       "    }\n",
       "\n",
       "    .dataframe tbody tr th {\n",
       "        vertical-align: top;\n",
       "    }\n",
       "\n",
       "    .dataframe thead th {\n",
       "        text-align: right;\n",
       "    }\n",
       "</style>\n",
       "<table border=\"1\" class=\"dataframe\">\n",
       "  <thead>\n",
       "    <tr style=\"text-align: right;\">\n",
       "      <th></th>\n",
       "      <th>fgitemcode</th>\n",
       "      <th>packingtype</th>\n",
       "      <th>traycode</th>\n",
       "      <th>bottbox</th>\n",
       "      <th>boxlayer</th>\n",
       "      <th>boxpallet</th>\n",
       "      <th>boxcount</th>\n",
       "      <th>bottlespercontainer</th>\n",
       "      <th>laborcategory</th>\n",
       "      <th>nooflabors</th>\n",
       "    </tr>\n",
       "  </thead>\n",
       "  <tbody>\n",
       "    <tr>\n",
       "      <th>0</th>\n",
       "      <td>7292000000427</td>\n",
       "      <td>6534000002889</td>\n",
       "      <td>7484000000683</td>\n",
       "      <td>24.0</td>\n",
       "      <td>0.0</td>\n",
       "      <td>0.0</td>\n",
       "      <td>3416</td>\n",
       "      <td>81984</td>\n",
       "      <td>7916000000774</td>\n",
       "      <td>28</td>\n",
       "    </tr>\n",
       "    <tr>\n",
       "      <th>1</th>\n",
       "      <td>7292000000427</td>\n",
       "      <td>6534000002889</td>\n",
       "      <td>7484000000683</td>\n",
       "      <td>24.0</td>\n",
       "      <td>0.0</td>\n",
       "      <td>0.0</td>\n",
       "      <td>3416</td>\n",
       "      <td>81984</td>\n",
       "      <td>7916000000775</td>\n",
       "      <td>2</td>\n",
       "    </tr>\n",
       "    <tr>\n",
       "      <th>2</th>\n",
       "      <td>7292000000427</td>\n",
       "      <td>6534000002889</td>\n",
       "      <td>7484000000683</td>\n",
       "      <td>24.0</td>\n",
       "      <td>0.0</td>\n",
       "      <td>0.0</td>\n",
       "      <td>3416</td>\n",
       "      <td>81984</td>\n",
       "      <td>7916000000776</td>\n",
       "      <td>7</td>\n",
       "    </tr>\n",
       "    <tr>\n",
       "      <th>3</th>\n",
       "      <td>7335000000179</td>\n",
       "      <td>6534000002889</td>\n",
       "      <td>7484000000683</td>\n",
       "      <td>24.0</td>\n",
       "      <td>0.0</td>\n",
       "      <td>0.0</td>\n",
       "      <td>84</td>\n",
       "      <td>2016</td>\n",
       "      <td>7916000000774</td>\n",
       "      <td>1</td>\n",
       "    </tr>\n",
       "    <tr>\n",
       "      <th>4</th>\n",
       "      <td>7335000000179</td>\n",
       "      <td>6534000002889</td>\n",
       "      <td>7484000000683</td>\n",
       "      <td>24.0</td>\n",
       "      <td>0.0</td>\n",
       "      <td>0.0</td>\n",
       "      <td>84</td>\n",
       "      <td>2016</td>\n",
       "      <td>7916000000775</td>\n",
       "      <td>1</td>\n",
       "    </tr>\n",
       "    <tr>\n",
       "      <th>...</th>\n",
       "      <td>...</td>\n",
       "      <td>...</td>\n",
       "      <td>...</td>\n",
       "      <td>...</td>\n",
       "      <td>...</td>\n",
       "      <td>...</td>\n",
       "      <td>...</td>\n",
       "      <td>...</td>\n",
       "      <td>...</td>\n",
       "      <td>...</td>\n",
       "    </tr>\n",
       "    <tr>\n",
       "      <th>66</th>\n",
       "      <td>6460000000210</td>\n",
       "      <td>1188000002155</td>\n",
       "      <td>7484000000683</td>\n",
       "      <td>0.0</td>\n",
       "      <td>0.0</td>\n",
       "      <td>0.0</td>\n",
       "      <td>0</td>\n",
       "      <td>0</td>\n",
       "      <td>7916000000776</td>\n",
       "      <td>8</td>\n",
       "    </tr>\n",
       "    <tr>\n",
       "      <th>67</th>\n",
       "      <td>7020000000695</td>\n",
       "      <td>1188000002155</td>\n",
       "      <td>7484000000683</td>\n",
       "      <td>0.0</td>\n",
       "      <td>0.0</td>\n",
       "      <td>0.0</td>\n",
       "      <td>0</td>\n",
       "      <td>0</td>\n",
       "      <td>7916000000776</td>\n",
       "      <td>8</td>\n",
       "    </tr>\n",
       "    <tr>\n",
       "      <th>68</th>\n",
       "      <td>2345000004588</td>\n",
       "      <td>1188000002155</td>\n",
       "      <td>7484000000683</td>\n",
       "      <td>0.0</td>\n",
       "      <td>0.0</td>\n",
       "      <td>0.0</td>\n",
       "      <td>0</td>\n",
       "      <td>0</td>\n",
       "      <td>7916000000776</td>\n",
       "      <td>8</td>\n",
       "    </tr>\n",
       "    <tr>\n",
       "      <th>69</th>\n",
       "      <td>8071000002117</td>\n",
       "      <td>1188000002155</td>\n",
       "      <td>7484000000683</td>\n",
       "      <td>0.0</td>\n",
       "      <td>0.0</td>\n",
       "      <td>0.0</td>\n",
       "      <td>0</td>\n",
       "      <td>0</td>\n",
       "      <td>7916000000776</td>\n",
       "      <td>8</td>\n",
       "    </tr>\n",
       "    <tr>\n",
       "      <th>70</th>\n",
       "      <td>8071000002102</td>\n",
       "      <td>1188000002155</td>\n",
       "      <td>7484000000683</td>\n",
       "      <td>0.0</td>\n",
       "      <td>0.0</td>\n",
       "      <td>0.0</td>\n",
       "      <td>0</td>\n",
       "      <td>0</td>\n",
       "      <td>7916000000776</td>\n",
       "      <td>8</td>\n",
       "    </tr>\n",
       "  </tbody>\n",
       "</table>\n",
       "<p>71 rows × 10 columns</p>\n",
       "</div>"
      ],
      "text/plain": [
       "       fgitemcode    packingtype       traycode  bottbox  boxlayer  boxpallet  \\\n",
       "0   7292000000427  6534000002889  7484000000683     24.0       0.0        0.0   \n",
       "1   7292000000427  6534000002889  7484000000683     24.0       0.0        0.0   \n",
       "2   7292000000427  6534000002889  7484000000683     24.0       0.0        0.0   \n",
       "3   7335000000179  6534000002889  7484000000683     24.0       0.0        0.0   \n",
       "4   7335000000179  6534000002889  7484000000683     24.0       0.0        0.0   \n",
       "..            ...            ...            ...      ...       ...        ...   \n",
       "66  6460000000210  1188000002155  7484000000683      0.0       0.0        0.0   \n",
       "67  7020000000695  1188000002155  7484000000683      0.0       0.0        0.0   \n",
       "68  2345000004588  1188000002155  7484000000683      0.0       0.0        0.0   \n",
       "69  8071000002117  1188000002155  7484000000683      0.0       0.0        0.0   \n",
       "70  8071000002102  1188000002155  7484000000683      0.0       0.0        0.0   \n",
       "\n",
       "    boxcount  bottlespercontainer  laborcategory  nooflabors  \n",
       "0       3416                81984  7916000000774          28  \n",
       "1       3416                81984  7916000000775           2  \n",
       "2       3416                81984  7916000000776           7  \n",
       "3         84                 2016  7916000000774           1  \n",
       "4         84                 2016  7916000000775           1  \n",
       "..       ...                  ...            ...         ...  \n",
       "66         0                    0  7916000000776           8  \n",
       "67         0                    0  7916000000776           8  \n",
       "68         0                    0  7916000000776           8  \n",
       "69         0                    0  7916000000776           8  \n",
       "70         0                    0  7916000000776           8  \n",
       "\n",
       "[71 rows x 10 columns]"
      ]
     },
     "execution_count": 94,
     "metadata": {},
     "output_type": "execute_result"
    }
   ],
   "source": [
    "fg_data_lab=fg_data[[\"finpmbasicid\",\"Product Group\",\"FG Code\",\"FG Name\",\"Qty/Tray\",\"Tray/Pallet\",\"Qty/Pallet\"]]\n",
    "fg_data_lab.rename(columns={\"Product Group\":\"FG Product Group\"},inplace=True)\n",
    "labor_bom_full_data.merge(fg_data_lab,left_on='fgitemcode',right_on='finpmbasicid',how=inner)"
   ]
  },
  {
   "cell_type": "markdown",
   "id": "0bc5b877",
   "metadata": {},
   "source": [
    "### LINE PRODUCTWISE EFFICIENCY"
   ]
  },
  {
   "attachments": {},
   "cell_type": "markdown",
   "id": "27443fb2",
   "metadata": {},
   "source": [
    "## 2. OVERHEAD CALCULATION"
   ]
  },
  {
   "attachments": {},
   "cell_type": "markdown",
   "id": "acd44ae0",
   "metadata": {},
   "source": [
    "ACL Running Days"
   ]
  },
  {
   "cell_type": "code",
   "execution_count": 51,
   "id": "4fdc6180",
   "metadata": {},
   "outputs": [],
   "source": [
    "acl_running_days_data=readoraclequery(query.acl_running_days_query)\n",
    "acl_running_days_data=acl_running_days_data[(acl_running_days_data['lastday']>=v_fromdate) & (acl_running_days_data['lastday']<=v_todate)]\n",
    "acl_running_days_data=acl_running_days_data.rename(columns={'line':'Line','noofdays1':'No.Of Days','lastday':'Month'}).reset_index()"
   ]
  },
  {
   "attachments": {},
   "cell_type": "markdown",
   "id": "80ae7aa2",
   "metadata": {},
   "source": [
    "Gas and Power Data Split Up"
   ]
  },
  {
   "cell_type": "code",
   "execution_count": 52,
   "id": "fba25604",
   "metadata": {},
   "outputs": [],
   "source": [
    "gas_power_data=readoraclequery(query.gas_power_query)\n",
    "gas_power_data_max=gas_power_data.groupby(['type','utype','rate','line'])['asondate'].max().reset_index()\n",
    "gas_power_data=gas_power_data.merge(gas_power_data_max,on=['type','utype','rate','line','asondate'],how='inner')\n",
    "gas_power_data=gas_power_data[['utype', 'rate', 'line', 'unitsphour']]\n",
    "gas_power_data.rename(columns={'utype':'Utility', 'rate':'Rate', 'line':'ACL', 'unitsphour':'Units/Hour'},inplace=True)\n",
    "power_rate=gas_power_data[gas_power_data['Utility']=='Power'].reset_index()['Rate'][0]\n",
    "gas_rate=gas_power_data[gas_power_data['Utility']=='Gas'].reset_index()['Rate'][0]\n",
    "acl_running_days_total=acl_running_days_data.groupby('Line')['No.Of Days'].sum().reset_index()\n",
    "split_acl=gas_power_data.merge(acl_running_days_total,left_on='ACL',right_on='Line',how='inner')\n",
    "split_acl['Units/Day']=split_acl['Units/Hour']*24\n",
    "split_acl['Rate/Day']=split_acl['Rate']*split_acl['Units/Day']\n",
    "split_acl['Utility Amount']=split_acl['Rate/Day']*split_acl['No.Of Days']\n",
    "split_acl=split_acl[['Utility',  'Line','Rate', 'Units/Hour', 'No.Of Days',\n",
    "                     'Units/Day', 'Rate/Day', 'Utility Amount']].sort_values(by=['Utility', 'Line'])"
   ]
  },
  {
   "cell_type": "code",
   "execution_count": 53,
   "id": "68c8fdb3",
   "metadata": {},
   "outputs": [],
   "source": [
    "split_acl=split_acl[['Utility',  'Line','Rate', 'Units/Hour', 'No.Of Days',\n",
    "                     'Units/Day', 'Rate/Day', 'Utility Amount']].sort_values(by=['Utility', 'Line'])"
   ]
  },
  {
   "attachments": {},
   "cell_type": "markdown",
   "id": "1fffb873",
   "metadata": {},
   "source": [
    "Reading Accounts Table and Cost Center Table"
   ]
  },
  {
   "cell_type": "code",
   "execution_count": 54,
   "id": "64285775",
   "metadata": {},
   "outputs": [],
   "source": [
    "logfile.write(f'\\nOverhead Calculations are started at {datetime.datetime.now().strftime(\"%d/%m/%Y %H:%M:%S\")}')\n",
    "accounts_txn_data=readoraclequery(query.accounts_txn_query)\n",
    "cost_center_txn_data=readoraclequery(query.cost_center_txn_query)\n",
    "cost_pool_data=readoraclequery(query.cost_pool_query)"
   ]
  },
  {
   "attachments": {},
   "cell_type": "markdown",
   "id": "6e602333",
   "metadata": {},
   "source": [
    "Cost Center Table Data"
   ]
  },
  {
   "cell_type": "code",
   "execution_count": 55,
   "id": "a7c9449f",
   "metadata": {},
   "outputs": [],
   "source": [
    "cost_center_txn_data=cost_center_txn_data[((cost_center_txn_data['voucher_date']<= v_todate) & (cost_center_txn_data['voucher_date'] >= v_fromdate))]\n",
    "cost_center_txn_data=cost_center_txn_data[[ 'mname', 'groupcode', 'groupname', 'costcentercode', 'costcenter','amt' ]]\n",
    "cost_center_txn_data.rename(columns={'mname':'Account Name',\n",
    "                     'groupcode':'Group Code', \n",
    "                     'groupname':'Group Name', \n",
    "                     'costcentercode':'Cost Center Code',\n",
    "                     'costcenter':'Cost Center Name', \n",
    "                     'amt':'Amount'},inplace=True)\n",
    "cost_center_txn_data=cost_center_txn_data.groupby(['Account Name','Group Code','Group Name','Cost Center Code','Cost Center Name'])['Amount'].sum().reset_index()"
   ]
  },
  {
   "attachments": {},
   "cell_type": "markdown",
   "id": "5e0a4099",
   "metadata": {},
   "source": [
    "Accounts Table Data Fine Tune"
   ]
  },
  {
   "cell_type": "code",
   "execution_count": 56,
   "id": "e68dc391",
   "metadata": {},
   "outputs": [],
   "source": [
    "accounts_txn_data=accounts_txn_data[['vchno', 'vchdt', 'accountname', 'category','nativecurrency', 'subledger', \n",
    "                                     'currency', 'exchange_rate','sexchange_rate', 'dramount', 'cramount','alie',  'directoverheadexp']]\n",
    "accounts_txn_data=accounts_txn_data[(accounts_txn_data['vchdt']>=v_fromdate) & (accounts_txn_data['vchdt']<=v_todate) &((accounts_txn_data['alie']=='i') | (accounts_txn_data['alie']=='e')) ]\n",
    "accounts_txn_data=accounts_txn_data[[ 'accountname', 'dramount','cramount', 'alie', 'directoverheadexp']]\n",
    "accounts_txn_data['Amount']=accounts_txn_data['dramount']-accounts_txn_data['cramount']\n",
    "accounts_txn_data.rename(columns={'accountname':'Account Name','dramount':'Debit Amount','cramount':'Credit Amount', \n",
    "                                  'alie':'ALIE', 'directoverheadexp':'Direct Over Head Ex.'},inplace=True)\n",
    "accounts_txn_data=accounts_txn_data.groupby(['Account Name'])['Amount'].sum().reset_index()"
   ]
  },
  {
   "attachments": {},
   "cell_type": "markdown",
   "id": "e66cb8bf",
   "metadata": {},
   "source": [
    "Checking the Difference in the Accounts Data"
   ]
  },
  {
   "cell_type": "code",
   "execution_count": 57,
   "id": "e0e7da57",
   "metadata": {},
   "outputs": [],
   "source": [
    "accounts_txn_data['Type']='Accounts Table'\n",
    "cost_center_txn_data['Type']='Cost Center Table'\n",
    "cost_center_summary_data=cost_center_txn_data.groupby(['Type','Account Name']).sum().reset_index()\n",
    "accounts_txn_data=accounts_txn_data[['Type','Account Name', 'Amount']]\n",
    "\n",
    "accounts_cross_chk_pd=pd.concat([cost_center_summary_data,accounts_txn_data])\n",
    "accounts_cross_chk_pd=accounts_cross_chk_pd.pivot(index='Account Name',columns=['Type'],values='Amount').reset_index()\n",
    "accounts_cross_chk_pd['Difference']=accounts_cross_chk_pd['Accounts Table']-accounts_cross_chk_pd['Cost Center Table']\n",
    "accounts_cross_chk_pd=accounts_cross_chk_pd[accounts_cross_chk_pd['Difference']!=0]"
   ]
  },
  {
   "attachments": {},
   "cell_type": "markdown",
   "id": "a53067c4",
   "metadata": {},
   "source": [
    "Generating the Over Head Allocation Constant Master"
   ]
  },
  {
   "cell_type": "code",
   "execution_count": null,
   "id": "582a3dbd",
   "metadata": {},
   "outputs": [],
   "source": []
  },
  {
   "attachments": {},
   "cell_type": "markdown",
   "id": "9ecf05db",
   "metadata": {},
   "source": [
    "## 3. GENERATING FINAL COST SHEET"
   ]
  },
  {
   "cell_type": "code",
   "execution_count": 58,
   "id": "23728a36",
   "metadata": {},
   "outputs": [],
   "source": [
    "logfile.write(f'\\nFinal Calculations are started at {datetime.datetime.now().strftime(\"%d/%m/%Y %H:%M:%S\")}')\n",
    "final_cost_sheet=fg_data"
   ]
  },
  {
   "attachments": {},
   "cell_type": "markdown",
   "id": "454e0880",
   "metadata": {},
   "source": [
    "Join with BOMS"
   ]
  },
  {
   "cell_type": "code",
   "execution_count": 59,
   "id": "95f2a57d",
   "metadata": {},
   "outputs": [
    {
     "data": {
      "text/html": [
       "<div>\n",
       "<style scoped>\n",
       "    .dataframe tbody tr th:only-of-type {\n",
       "        vertical-align: middle;\n",
       "    }\n",
       "\n",
       "    .dataframe tbody tr th {\n",
       "        vertical-align: top;\n",
       "    }\n",
       "\n",
       "    .dataframe thead th {\n",
       "        text-align: right;\n",
       "    }\n",
       "</style>\n",
       "<table border=\"1\" class=\"dataframe\">\n",
       "  <thead>\n",
       "    <tr style=\"text-align: right;\">\n",
       "      <th></th>\n",
       "      <th>Item Master</th>\n",
       "      <th>Product Group</th>\n",
       "      <th>Decoration Type</th>\n",
       "      <th>Color Name</th>\n",
       "      <th>Job</th>\n",
       "      <th>Neck Finish Name</th>\n",
       "      <th>Capacity</th>\n",
       "      <th>Process</th>\n",
       "      <th>Layers/Pallet</th>\n",
       "      <th>Bottle Configuration</th>\n",
       "      <th>FG Code</th>\n",
       "      <th>FG Name</th>\n",
       "      <th>Qty/Tray</th>\n",
       "      <th>Tray/Pallet</th>\n",
       "      <th>Qty/Pallet</th>\n",
       "      <th>Weight in Grams</th>\n",
       "      <th>finpmbasicid</th>\n",
       "      <th>pmbasicid</th>\n",
       "    </tr>\n",
       "  </thead>\n",
       "  <tbody>\n",
       "    <tr>\n",
       "      <th>0</th>\n",
       "      <td>Item Master</td>\n",
       "      <td>FINISHED GOODS</td>\n",
       "      <td>Labelled</td>\n",
       "      <td>Green</td>\n",
       "      <td>7UP</td>\n",
       "      <td>MCA-1</td>\n",
       "      <td>355 ML</td>\n",
       "      <td>Blow &amp; Blow</td>\n",
       "      <td>9 Layers</td>\n",
       "      <td>A</td>\n",
       "      <td>LG7UPMCA100355B09A</td>\n",
       "      <td>7UP 355ML DIET - GULF</td>\n",
       "      <td>371.0</td>\n",
       "      <td>9.0</td>\n",
       "      <td>3339.0</td>\n",
       "      <td>245.0</td>\n",
       "      <td>17554000002205</td>\n",
       "      <td>17554000002210</td>\n",
       "    </tr>\n",
       "  </tbody>\n",
       "</table>\n",
       "</div>"
      ],
      "text/plain": [
       "   Item Master   Product Group Decoration Type Color Name  Job  \\\n",
       "0  Item Master  FINISHED GOODS        Labelled      Green  7UP   \n",
       "\n",
       "  Neck Finish Name Capacity      Process Layers/Pallet Bottle Configuration  \\\n",
       "0            MCA-1   355 ML  Blow & Blow      9 Layers                    A   \n",
       "\n",
       "              FG Code                FG Name  Qty/Tray  Tray/Pallet  \\\n",
       "0  LG7UPMCA100355B09A  7UP 355ML DIET - GULF     371.0          9.0   \n",
       "\n",
       "   Qty/Pallet  Weight in Grams    finpmbasicid       pmbasicid  \n",
       "0      3339.0            245.0  17554000002205  17554000002210  "
      ]
     },
     "execution_count": 59,
     "metadata": {},
     "output_type": "execute_result"
    }
   ],
   "source": [
    "#Join with Coloring BOM\n",
    "final_cost_sheet.head(1)"
   ]
  },
  {
   "attachments": {},
   "cell_type": "markdown",
   "id": "9ecf05db",
   "metadata": {},
   "source": [
    "## 4. EXCEL WRITING"
   ]
  },
  {
   "cell_type": "markdown",
   "id": "0ea1e064",
   "metadata": {},
   "source": [
    "### Export the Masters"
   ]
  },
  {
   "cell_type": "markdown",
   "id": "24671609",
   "metadata": {},
   "source": [
    "#### Export Item Master"
   ]
  },
  {
   "cell_type": "code",
   "execution_count": 60,
   "id": "5ab1b05e",
   "metadata": {},
   "outputs": [],
   "source": [
    "item_master_data_exp=item_master_data[['Product Group', 'Item Code', \n",
    "       'Product Desc', 'Primary Unit', 'Consumption Unit', 'Per Qty', 'Rate',\n",
    "       'Conversion Factor', 'Price in Cons UOM', 'Ex Rate', 'Currency',\n",
    "       'Category Code', 'Product Category', 'Consumption Year',\n",
    "       'Consumption Amount', 'Consumption Quantity', 'Actual Rate']]"
   ]
  },
  {
   "cell_type": "code",
   "execution_count": 61,
   "id": "796632de",
   "metadata": {},
   "outputs": [],
   "source": [
    "######### EXCEL EXPORTS #############\n",
    "logfile.write(f'\\nItem Master is writing to excel at {datetime.datetime.now().strftime(\"%d/%m/%Y %H:%M:%S\")}')\n",
    "with pd.ExcelWriter(folder_name+\"/Masters.xlsx\") as writer:\n",
    "     fg_data_exp.to_excel(writer,sheet_name=\"FG Item Master\",index=False)\n",
    "     item_master_data_exp.to_excel(writer,sheet_name=\"Item Master\",index=False)"
   ]
  },
  {
   "cell_type": "markdown",
   "id": "a25a1938",
   "metadata": {},
   "source": [
    "#### Export BOM"
   ]
  },
  {
   "cell_type": "code",
   "execution_count": 62,
   "id": "ec27b5c8",
   "metadata": {},
   "outputs": [],
   "source": [
    "logfile.write(f'\\nBOM are writing to excel at {datetime.datetime.now().strftime(\"%d/%m/%Y %H:%M:%S\")}')\n",
    "with pd.ExcelWriter(folder_name+\"/BOM_Sheets.xlsx\") as writer:\n",
    "    fg_rm_bom_full_data_exp.to_excel(writer,sheet_name=\"Furnace Costing\",index=False)  #Furnace BOM\n",
    "    fg_rm_bom_summary_data_exp.to_excel(writer,sheet_name=\"Furnace Summary\",index=False)\n",
    "    fg_pkg_bom_full_data_exp.to_excel(writer,sheet_name=\"Packing Costing\",index=False)\n",
    "    fg_pkg_bom_summary_data.to_excel(writer,sheet_name=\"Packing Summary\",index=False)\n",
    "    screen_full_data_exp.to_excel(writer,sheet_name=\"Screening Costing\",index=False)\n",
    "    color_full_data_exp.to_excel(writer,sheet_name=\"Coloring Costing\",index=False)\n",
    "    color_summary_data_exp.to_excel(writer,sheet_name=\"Coloring Summary\",index=False)\n",
    "    coating_full_data_exp.to_excel(writer,sheet_name=\"Coating Costing\",index=False)\n",
    "    coating_summary_data_exp.to_excel(writer,sheet_name=\"Coating Summary\",index=False)\n",
    "    bomdespatch_full_data_exp.to_excel(writer,sheet_name=\"Despatch Costing\",index=False)\n",
    "    bom_labcost_full_data_exp.to_excel(writer,sheet_name=\"Labour Costing\",index=False)"
   ]
  },
  {
   "cell_type": "markdown",
   "id": "a25a1938",
   "metadata": {},
   "source": [
    "#### Export Over Heads"
   ]
  },
  {
   "cell_type": "code",
   "execution_count": 63,
   "id": "ec27b5c8",
   "metadata": {},
   "outputs": [],
   "source": [
    "logfile.write(f'\\nOverheads are writing to excel at {datetime.datetime.now().strftime(\"%d/%m/%Y %H:%M:%S\")}')\n",
    "with pd.ExcelWriter(folder_name+\"/Overheads.xlsx\") as writer:\n",
    "    cost_pool_data.to_excel(writer,sheet_name=\"CostPoolMaster\",index=False)\n",
    "    cost_center_txn_data.to_excel(writer,sheet_name=\"CostCenterData\",index=False)\n",
    "    acl_running_days_data.to_excel(writer,sheet_name=\"Split_1 ACL Days\",index=False)\n",
    "    split_acl.to_excel(writer,sheet_name=\"Split_2 ACL Utilities\",index=False)"
   ]
  },
  {
   "cell_type": "markdown",
   "id": "a25a1938",
   "metadata": {},
   "source": [
    "#### Export Final Cost Sheet"
   ]
  },
  {
   "cell_type": "code",
   "execution_count": 64,
   "id": "3a136300",
   "metadata": {},
   "outputs": [],
   "source": [
    "logfile.write(f'\\nFinal Cost Sheet is writing to excel at {datetime.datetime.now().strftime(\"%d/%m/%Y %H:%M:%S\")}')\n",
    "with pd.ExcelWriter(folder_name+\"/Final_Cost_Sheet.xlsx\") as writer:\n",
    "    final_cost_sheet.to_excel(writer,sheet_name=\"Cost Sheet\",index=False)  #Furnace BOM"
   ]
  },
  {
   "attachments": {},
   "cell_type": "markdown",
   "id": "83d24c9a",
   "metadata": {},
   "source": [
    "#### Exception Reports"
   ]
  },
  {
   "cell_type": "code",
   "execution_count": 65,
   "id": "29fce17f",
   "metadata": {},
   "outputs": [
    {
     "name": "stdout",
     "output_type": "stream",
     "text": [
      "Costing Processing is done!!\n"
     ]
    }
   ],
   "source": [
    "logfile.write(f'\\nExceptional Reports are writing to excel at {datetime.datetime.now().strftime(\"%d/%m/%Y %H:%M:%S\")}')\n",
    "with pd.ExcelWriter(folder_name+\"/Exceptionals.xlsx\") as writer:\n",
    "    accounts_cross_chk_pd.to_excel(writer,sheet_name=\"Cost Center Differences\",index=False)  #Cost Center Differences"
   ]
  },
  {
   "cell_type": "code",
   "execution_count": 66,
   "id": "20d2813a",
   "metadata": {},
   "outputs": [],
   "source": [
    "logfile.write(f'\\nThe Process is Completed Successfully at {datetime.datetime.now().strftime(\"%d/%m/%Y %H:%M:%S\")}')\n",
    "logfile.close()\n",
    "processlogfile.close()"
   ]
  }
 ],
 "metadata": {
  "kernelspec": {
   "display_name": "Python 3.10.0 64-bit",
   "language": "python",
   "name": "python3"
  },
  "language_info": {
   "codemirror_mode": {
    "name": "ipython",
    "version": 3
   },
   "file_extension": ".py",
   "mimetype": "text/x-python",
   "name": "python",
   "nbconvert_exporter": "python",
   "pygments_lexer": "ipython3",
   "version": "3.10.9"
  },
  "vscode": {
   "interpreter": {
    "hash": "26de051ba29f2982a8de78e945f0abaf191376122a1563185a90213a26c5da77"
   }
  }
 },
 "nbformat": 4,
 "nbformat_minor": 5
}
